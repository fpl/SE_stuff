{
 "cells": [
  {
   "cell_type": "markdown",
   "id": "middle-catalog",
   "metadata": {},
   "source": [
    "<h1><center>R Introduction</center></h1>\n",
    "\n",
    "## BIO401-01/598-02 \n",
    " \n",
    "## Mar. 15 2021\n",
    "\n"
   ]
  },
  {
   "cell_type": "markdown",
   "id": "liable-crown",
   "metadata": {},
   "source": [
    "\n",
    "\n",
    "### R is a script language for statistical data analysis and manipulation. \n",
    "### home page : https://cran.r-project.org/"
   ]
  },
  {
   "cell_type": "markdown",
   "id": "middle-connectivity",
   "metadata": {},
   "source": [
    "## Initial Settings \n",
    "\n",
    "### 1. miniconda installation \n",
    "\n",
    "https://docs.conda.io/en/latest/miniconda.html\n",
    "\n",
    "Download the latest shell script \n",
    "\n",
    "    $ wget https://repo.anaconda.com/miniconda/Miniconda3-latest-Linux-x86_64.sh \n",
    "\n",
    "Make the miniconda installation script executable \n",
    "\n",
    "    $ chmod +x Miniconda3-latest-Linux-x86_64.sh \n",
    "\n",
    "Run miniconda installation script \n",
    "    $./Miniconda3-latest-Linux-x86_64.sh \n",
    "\n",
    "choose yes along the course of installation \n",
    "after successful installation, promote becomes :  (base) user@osgeolive\n",
    "\n",
    "### 2. installing R-kernel  \n",
    "\n",
    "    $ conda install -c r r-irkernel \n",
    "\n",
    "### 3. installing jupterlab \n",
    "    $ conda install jupterlab"
   ]
  },
  {
   "cell_type": "markdown",
   "id": "electoral-bulletin",
   "metadata": {},
   "source": [
    "## How to run \n",
    "\n",
    "- batch mode\n",
    "\n",
    "    $ R CMD BATCH script.R\n",
    "    \n",
    "help for the batch mode \n",
    "\n",
    "    $ R CMD command --help \n",
    "\n",
    "for example \n",
    "\n",
    "    $ R CMD INSTALL --help \n",
    "\n",
    "- interactive mode\n",
    "\n",
    "console : \">\" as the R prompt\n",
    "\n",
    "common IDE (integrated development environment) for R \n",
    "\n",
    "R studio, Jupyter-notebook, ESS(emacs speaks statistics), R commander, etc."
   ]
  },
  {
   "cell_type": "markdown",
   "id": "choice-tsunami",
   "metadata": {},
   "source": [
    "## Installing packages\n",
    "\n",
    "    > install.packages(\"package_name\")"
   ]
  },
  {
   "cell_type": "markdown",
   "id": "metric-treat",
   "metadata": {},
   "source": [
    "## As a caculator"
   ]
  },
  {
   "cell_type": "code",
   "execution_count": 118,
   "id": "amended-messaging",
   "metadata": {},
   "outputs": [
    {
     "data": {
      "text/html": [
       "8"
      ],
      "text/latex": [
       "8"
      ],
      "text/markdown": [
       "8"
      ],
      "text/plain": [
       "[1] 8"
      ]
     },
     "metadata": {},
     "output_type": "display_data"
    }
   ],
   "source": [
    "3 + 5 "
   ]
  },
  {
   "cell_type": "code",
   "execution_count": 3,
   "id": "speaking-hungarian",
   "metadata": {},
   "outputs": [
    {
     "data": {
      "text/html": [
       "1"
      ],
      "text/latex": [
       "1"
      ],
      "text/markdown": [
       "1"
      ],
      "text/plain": [
       "[1] 1"
      ]
     },
     "metadata": {},
     "output_type": "display_data"
    }
   ],
   "source": [
    "sin(pi/2)"
   ]
  },
  {
   "cell_type": "code",
   "execution_count": 13,
   "id": "chronic-accordance",
   "metadata": {},
   "outputs": [
    {
     "data": {
      "text/html": [
       "8"
      ],
      "text/latex": [
       "8"
      ],
      "text/markdown": [
       "8"
      ],
      "text/plain": [
       "[1] 8"
      ]
     },
     "metadata": {},
     "output_type": "display_data"
    }
   ],
   "source": [
    "2^3"
   ]
  },
  {
   "cell_type": "code",
   "execution_count": 31,
   "id": "laden-brook",
   "metadata": {},
   "outputs": [
    {
     "data": {
      "text/html": [
       "1.66666666666667"
      ],
      "text/latex": [
       "1.66666666666667"
      ],
      "text/markdown": [
       "1.66666666666667"
      ],
      "text/plain": [
       "[1] 1.666667"
      ]
     },
     "metadata": {},
     "output_type": "display_data"
    }
   ],
   "source": [
    "5/3"
   ]
  },
  {
   "cell_type": "code",
   "execution_count": 33,
   "id": "corresponding-ghost",
   "metadata": {},
   "outputs": [
    {
     "data": {
      "text/html": [
       "2"
      ],
      "text/latex": [
       "2"
      ],
      "text/markdown": [
       "2"
      ],
      "text/plain": [
       "[1] 2"
      ]
     },
     "metadata": {},
     "output_type": "display_data"
    }
   ],
   "source": [
    "5%%3"
   ]
  },
  {
   "cell_type": "code",
   "execution_count": 1,
   "id": "disturbed-density",
   "metadata": {},
   "outputs": [
    {
     "data": {
      "text/html": [
       "1"
      ],
      "text/latex": [
       "1"
      ],
      "text/markdown": [
       "1"
      ],
      "text/plain": [
       "[1] 1"
      ]
     },
     "metadata": {},
     "output_type": "display_data"
    }
   ],
   "source": [
    "5%/%3"
   ]
  },
  {
   "cell_type": "markdown",
   "id": "recorded-brief",
   "metadata": {},
   "source": [
    "## Interfacing with the system\n",
    "\n",
    "    > dir() #  show files in the current directory\n",
    "\n",
    "    > getwd() #  is asking for the current working directory"
   ]
  },
  {
   "cell_type": "markdown",
   "id": "aboriginal-sandwich",
   "metadata": {},
   "source": [
    "## Getting help\n",
    "\n",
    "R provides help with function and commands. On-line help gives useful \n",
    "information as well. Getting used to R help is a key to successful \n",
    "statistical modelling. The online help can be accessed in HTML format by \n",
    "typing:\n",
    "\n",
    "    > help.start()\n",
    "    \n",
    "A keyword search is possible using the Search Engine and Keywords link.\n",
    "You can also use the help() or ? functions.\n",
    "\n",
    "    > help(dir)\n",
    "\n",
    "or \n",
    "\n",
    "    > ? dir    "
   ]
  },
  {
   "cell_type": "markdown",
   "id": "lined-sympathy",
   "metadata": {},
   "source": [
    "## Data structures \n",
    "\n",
    "R objects\n",
    "  \n",
    "The entities R operates on are technically known as  objects. \n",
    "Examples are \"vectors of numeric (real)\" or \"complex values\", \"vectors of \n",
    "logical\" values and \"vectors of character strings\". \n",
    "These are known as  “atomic”  structures since their components are all of \n",
    "the same type, or mode, namely numeric, complex, logical, character and raw.\n",
    "R also operates on objects called \"lists\", which are of mode list. \n",
    "These are ordered sequences of objects which individually can be of any mode. \n",
    "Lists are known as  “recursive”  rather than atomic structures since their \n",
    "components can themselves be lists in their own right.\n",
    "The other recursive structures are those of mode function and  expression. \n",
    "\n",
    "By the \"mode\" of an object we mean the basic type of its fundamental \n",
    "constituents. This is a special case of a  “property”  of an object. Another\n",
    "property of every object is its \"length.\" The functions mode(object) and \n",
    "length(object) can be used \n",
    "to find out the mode and length of any defined structure 10.\n",
    "\n",
    "Further properties of an object are usually provided by attributes(object). \n",
    "Because of this, mode and length are also called “intrinsic attributes” of an object. \n",
    "For example, if z is a complex vector of length 100, then in an expression mode(z) \n",
    "is the character string \"complex\" and length(z) is 100."
   ]
  },
  {
   "cell_type": "markdown",
   "id": "promotional-village",
   "metadata": {},
   "source": [
    "### vectors : the heart of R\n",
    "\n",
    "Vectors are combinations of scalars in a string structure. Vectors must have \n",
    "all values of the same mode. Thus any given vector must be unambiguously \n",
    "either logical, numeric, complex, character or raw. (The only apparent \n",
    "exception to this rule is the special “value” listed as NA for quantities not\n",
    "available, but in fact there are several types of NA). Note that a vector can\n",
    "be empty and still have a mode. For example the empty character string vector\n",
    "is listed as character(0) and the empty numeric vector as numeric(0). \n",
    "\n",
    "    > help(vector)"
   ]
  },
  {
   "cell_type": "code",
   "execution_count": 6,
   "id": "active-genome",
   "metadata": {},
   "outputs": [],
   "source": [
    "# \"<-\" is the  assignment operator in R.\n",
    "# \"c\" stands for concatenate. \n",
    "\n",
    "x <- c(1,5,8)"
   ]
  },
  {
   "cell_type": "code",
   "execution_count": 7,
   "id": "mineral-messenger",
   "metadata": {},
   "outputs": [
    {
     "data": {
      "text/html": [
       "1"
      ],
      "text/latex": [
       "1"
      ],
      "text/markdown": [
       "1"
      ],
      "text/plain": [
       "[1] 1"
      ]
     },
     "metadata": {},
     "output_type": "display_data"
    },
    {
     "data": {
      "text/html": [
       "<style>\n",
       ".list-inline {list-style: none; margin:0; padding: 0}\n",
       ".list-inline>li {display: inline-block}\n",
       ".list-inline>li:not(:last-child)::after {content: \"\\00b7\"; padding: 0 .5ex}\n",
       "</style>\n",
       "<ol class=list-inline><li>5</li><li>8</li></ol>\n"
      ],
      "text/latex": [
       "\\begin{enumerate*}\n",
       "\\item 5\n",
       "\\item 8\n",
       "\\end{enumerate*}\n"
      ],
      "text/markdown": [
       "1. 5\n",
       "2. 8\n",
       "\n",
       "\n"
      ],
      "text/plain": [
       "[1] 5 8"
      ]
     },
     "metadata": {},
     "output_type": "display_data"
    }
   ],
   "source": [
    "# subsetting operation\n",
    "# \"[]\" used to retrieve vector elements \n",
    "# \":\" used to give a range for retrieval\n",
    "x[1]\n",
    "x[2:3]"
   ]
  },
  {
   "cell_type": "code",
   "execution_count": 8,
   "id": "hollywood-charleston",
   "metadata": {},
   "outputs": [
    {
     "data": {
      "text/html": [
       "3"
      ],
      "text/latex": [
       "3"
      ],
      "text/markdown": [
       "3"
      ],
      "text/plain": [
       "[1] 3"
      ]
     },
     "metadata": {},
     "output_type": "display_data"
    }
   ],
   "source": [
    "length(x)"
   ]
  },
  {
   "cell_type": "code",
   "execution_count": 9,
   "id": "assumed-chair",
   "metadata": {},
   "outputs": [
    {
     "data": {
      "text/html": [
       "'numeric'"
      ],
      "text/latex": [
       "'numeric'"
      ],
      "text/markdown": [
       "'numeric'"
      ],
      "text/plain": [
       "[1] \"numeric\""
      ]
     },
     "metadata": {},
     "output_type": "display_data"
    }
   ],
   "source": [
    "mode(x)"
   ]
  },
  {
   "cell_type": "code",
   "execution_count": 30,
   "id": "dental-anthony",
   "metadata": {},
   "outputs": [
    {
     "data": {
      "text/html": [
       "3.5"
      ],
      "text/latex": [
       "3.5"
      ],
      "text/markdown": [
       "3.5"
      ],
      "text/plain": [
       "[1] 3.5"
      ]
     },
     "metadata": {},
     "output_type": "display_data"
    },
    {
     "data": {
      "text/html": [
       "3.5"
      ],
      "text/latex": [
       "3.5"
      ],
      "text/markdown": [
       "3.5"
      ],
      "text/plain": [
       "[1] 3.5"
      ]
     },
     "metadata": {},
     "output_type": "display_data"
    }
   ],
   "source": [
    "# scalar not really exist in R \n",
    "# individual numbers actually single element vectors \n",
    "\n",
    "x <- 3.5\n",
    "x\n",
    "x[1]"
   ]
  },
  {
   "cell_type": "markdown",
   "id": "recovered-adaptation",
   "metadata": {},
   "source": [
    "Two common functions we can use to generate a sequence.  \n",
    "\n",
    "The seq() function \"seq(from = number, to = number, by = number)\" allow to \n",
    "create a vector starting from a value to another by a defined increment:\n",
    "    \n",
    "The replicate function  \"rep(x,times)\"  enables you to replicate a vector \n",
    "several times in a more complex vector. Calculations can be included to \n",
    "form vectors as well and functions can be combined in the same command."
   ]
  },
  {
   "cell_type": "code",
   "execution_count": 16,
   "id": "graphic-manner",
   "metadata": {},
   "outputs": [
    {
     "data": {
      "text/html": [
       "<style>\n",
       ".list-inline {list-style: none; margin:0; padding: 0}\n",
       ".list-inline>li {display: inline-block}\n",
       ".list-inline>li:not(:last-child)::after {content: \"\\00b7\"; padding: 0 .5ex}\n",
       "</style>\n",
       "<ol class=list-inline><li>1</li><li>2</li><li>3</li><li>4</li><li>5</li><li>6</li><li>7</li><li>8</li><li>9</li><li>10</li></ol>\n"
      ],
      "text/latex": [
       "\\begin{enumerate*}\n",
       "\\item 1\n",
       "\\item 2\n",
       "\\item 3\n",
       "\\item 4\n",
       "\\item 5\n",
       "\\item 6\n",
       "\\item 7\n",
       "\\item 8\n",
       "\\item 9\n",
       "\\item 10\n",
       "\\end{enumerate*}\n"
      ],
      "text/markdown": [
       "1. 1\n",
       "2. 2\n",
       "3. 3\n",
       "4. 4\n",
       "5. 5\n",
       "6. 6\n",
       "7. 7\n",
       "8. 8\n",
       "9. 9\n",
       "10. 10\n",
       "\n",
       "\n"
      ],
      "text/plain": [
       " [1]  1  2  3  4  5  6  7  8  9 10"
      ]
     },
     "metadata": {},
     "output_type": "display_data"
    }
   ],
   "source": [
    "1:10"
   ]
  },
  {
   "cell_type": "code",
   "execution_count": 11,
   "id": "flying-skill",
   "metadata": {},
   "outputs": [
    {
     "data": {
      "text/html": [
       "<style>\n",
       ".list-inline {list-style: none; margin:0; padding: 0}\n",
       ".list-inline>li {display: inline-block}\n",
       ".list-inline>li:not(:last-child)::after {content: \"\\00b7\"; padding: 0 .5ex}\n",
       "</style>\n",
       "<ol class=list-inline><li>1</li><li>1.25</li><li>1.5</li><li>1.75</li><li>2</li><li>2.25</li><li>2.5</li><li>2.75</li><li>3</li></ol>\n"
      ],
      "text/latex": [
       "\\begin{enumerate*}\n",
       "\\item 1\n",
       "\\item 1.25\n",
       "\\item 1.5\n",
       "\\item 1.75\n",
       "\\item 2\n",
       "\\item 2.25\n",
       "\\item 2.5\n",
       "\\item 2.75\n",
       "\\item 3\n",
       "\\end{enumerate*}\n"
      ],
      "text/markdown": [
       "1. 1\n",
       "2. 1.25\n",
       "3. 1.5\n",
       "4. 1.75\n",
       "5. 2\n",
       "6. 2.25\n",
       "7. 2.5\n",
       "8. 2.75\n",
       "9. 3\n",
       "\n",
       "\n"
      ],
      "text/plain": [
       "[1] 1.00 1.25 1.50 1.75 2.00 2.25 2.50 2.75 3.00"
      ]
     },
     "metadata": {},
     "output_type": "display_data"
    }
   ],
   "source": [
    "seq(1,3,0.25)"
   ]
  },
  {
   "cell_type": "code",
   "execution_count": 12,
   "id": "published-level",
   "metadata": {},
   "outputs": [
    {
     "data": {
      "text/html": [
       "<style>\n",
       ".list-inline {list-style: none; margin:0; padding: 0}\n",
       ".list-inline>li {display: inline-block}\n",
       ".list-inline>li:not(:last-child)::after {content: \"\\00b7\"; padding: 0 .5ex}\n",
       "</style>\n",
       "<ol class=list-inline><li>1</li><li>2</li><li>3</li><li>1</li><li>2</li><li>3</li><li>1</li><li>2</li><li>3</li><li>1</li><li>2</li><li>3</li><li>1</li><li>2</li><li>3</li></ol>\n"
      ],
      "text/latex": [
       "\\begin{enumerate*}\n",
       "\\item 1\n",
       "\\item 2\n",
       "\\item 3\n",
       "\\item 1\n",
       "\\item 2\n",
       "\\item 3\n",
       "\\item 1\n",
       "\\item 2\n",
       "\\item 3\n",
       "\\item 1\n",
       "\\item 2\n",
       "\\item 3\n",
       "\\item 1\n",
       "\\item 2\n",
       "\\item 3\n",
       "\\end{enumerate*}\n"
      ],
      "text/markdown": [
       "1. 1\n",
       "2. 2\n",
       "3. 3\n",
       "4. 1\n",
       "5. 2\n",
       "6. 3\n",
       "7. 1\n",
       "8. 2\n",
       "9. 3\n",
       "10. 1\n",
       "11. 2\n",
       "12. 3\n",
       "13. 1\n",
       "14. 2\n",
       "15. 3\n",
       "\n",
       "\n"
      ],
      "text/plain": [
       " [1] 1 2 3 1 2 3 1 2 3 1 2 3 1 2 3"
      ]
     },
     "metadata": {},
     "output_type": "display_data"
    }
   ],
   "source": [
    "one2three <- 1:3 \n",
    "rep(one2three,5) "
   ]
  },
  {
   "cell_type": "markdown",
   "id": "superb-documentary",
   "metadata": {},
   "source": [
    "### Missing Values\n",
    "\n",
    "In some cases the components of a vector or of an R object more in general, \n",
    "may not be completely known. When an element or value is “not available” \n",
    "or a “missing value” in the statistical sense, a place within a vector may\n",
    "be reserved for it by assigning it the special value NA. Any operation on \n",
    "an NA becomes an NA. \n",
    "\n",
    "The function is.na(x)  gives a logical vector of the same size as x with \n",
    "value TRUE if and only if the corresponding element in x is NA.\n",
    "\n",
    "Functions : dealing with NAs\n",
    "\n",
    "na.fail returns the object if it does not contain any missing values, and signals an error otherwise. \n",
    "\n",
    "na.omit returns the object with incomplete cases removed. \n",
    "\n",
    "na.pass returns the object unchanged."
   ]
  },
  {
   "cell_type": "code",
   "execution_count": 90,
   "id": "alone-watson",
   "metadata": {},
   "outputs": [
    {
     "data": {
      "text/html": [
       "<style>\n",
       ".list-inline {list-style: none; margin:0; padding: 0}\n",
       ".list-inline>li {display: inline-block}\n",
       ".list-inline>li:not(:last-child)::after {content: \"\\00b7\"; padding: 0 .5ex}\n",
       "</style>\n",
       "<ol class=list-inline><li>FALSE</li><li>FALSE</li><li>FALSE</li><li>TRUE</li></ol>\n"
      ],
      "text/latex": [
       "\\begin{enumerate*}\n",
       "\\item FALSE\n",
       "\\item FALSE\n",
       "\\item FALSE\n",
       "\\item TRUE\n",
       "\\end{enumerate*}\n"
      ],
      "text/markdown": [
       "1. FALSE\n",
       "2. FALSE\n",
       "3. FALSE\n",
       "4. TRUE\n",
       "\n",
       "\n"
      ],
      "text/plain": [
       "[1] FALSE FALSE FALSE  TRUE"
      ]
     },
     "metadata": {},
     "output_type": "display_data"
    }
   ],
   "source": [
    "z <- c(1:3,NA)\n",
    "ind <- is.na(z)\n",
    "ind"
   ]
  },
  {
   "cell_type": "markdown",
   "id": "functional-possession",
   "metadata": {},
   "source": [
    "There is a second kind of “missing” values which are produced by numerical \n",
    "computation, the so-called Not a Number,  NaN , values. \n",
    "\n",
    "Examples are 0/0 \n",
    "or Inf - Inf which both give NaN since the result cannot be defined sensibly."
   ]
  },
  {
   "cell_type": "code",
   "execution_count": 22,
   "id": "beginning-passenger",
   "metadata": {},
   "outputs": [
    {
     "data": {
      "text/html": [
       "NaN"
      ],
      "text/latex": [
       "NaN"
      ],
      "text/markdown": [
       "NaN"
      ],
      "text/plain": [
       "[1] NaN"
      ]
     },
     "metadata": {},
     "output_type": "display_data"
    },
    {
     "data": {
      "text/html": [
       "NaN"
      ],
      "text/latex": [
       "NaN"
      ],
      "text/markdown": [
       "NaN"
      ],
      "text/plain": [
       "[1] NaN"
      ]
     },
     "metadata": {},
     "output_type": "display_data"
    }
   ],
   "source": [
    "Inf-Inf\n",
    "0/0"
   ]
  },
  {
   "cell_type": "markdown",
   "id": "incorporated-canyon",
   "metadata": {},
   "source": [
    "is.na(xx) is TRUE both for NA and NaN values. To differentiate \n",
    "these, is.nan(xx) is only TRUE for NaNs. Missing values are sometimes printed\n",
    "as <NA> when character vectors are printed without quotes. "
   ]
  },
  {
   "cell_type": "code",
   "execution_count": 24,
   "id": "velvet-willow",
   "metadata": {},
   "outputs": [
    {
     "data": {
      "text/html": [
       "<style>\n",
       ".list-inline {list-style: none; margin:0; padding: 0}\n",
       ".list-inline>li {display: inline-block}\n",
       ".list-inline>li:not(:last-child)::after {content: \"\\00b7\"; padding: 0 .5ex}\n",
       "</style>\n",
       "<ol class=list-inline><li>FALSE</li><li>FALSE</li><li>FALSE</li><li>FALSE</li><li>TRUE</li></ol>\n"
      ],
      "text/latex": [
       "\\begin{enumerate*}\n",
       "\\item FALSE\n",
       "\\item FALSE\n",
       "\\item FALSE\n",
       "\\item FALSE\n",
       "\\item TRUE\n",
       "\\end{enumerate*}\n"
      ],
      "text/markdown": [
       "1. FALSE\n",
       "2. FALSE\n",
       "3. FALSE\n",
       "4. FALSE\n",
       "5. TRUE\n",
       "\n",
       "\n"
      ],
      "text/plain": [
       "[1] FALSE FALSE FALSE FALSE  TRUE"
      ]
     },
     "metadata": {},
     "output_type": "display_data"
    },
    {
     "data": {
      "text/html": [
       "<style>\n",
       ".list-inline {list-style: none; margin:0; padding: 0}\n",
       ".list-inline>li {display: inline-block}\n",
       ".list-inline>li:not(:last-child)::after {content: \"\\00b7\"; padding: 0 .5ex}\n",
       "</style>\n",
       "<ol class=list-inline><li>FALSE</li><li>FALSE</li><li>FALSE</li><li>TRUE</li><li>TRUE</li></ol>\n"
      ],
      "text/latex": [
       "\\begin{enumerate*}\n",
       "\\item FALSE\n",
       "\\item FALSE\n",
       "\\item FALSE\n",
       "\\item TRUE\n",
       "\\item TRUE\n",
       "\\end{enumerate*}\n"
      ],
      "text/markdown": [
       "1. FALSE\n",
       "2. FALSE\n",
       "3. FALSE\n",
       "4. TRUE\n",
       "5. TRUE\n",
       "\n",
       "\n"
      ],
      "text/plain": [
       "[1] FALSE FALSE FALSE  TRUE  TRUE"
      ]
     },
     "metadata": {},
     "output_type": "display_data"
    }
   ],
   "source": [
    "z <- c(1:3,NA,0/0)\n",
    "is.not.available <- is.na(z) \n",
    "is.not.a.number <-is.nan(z)\n",
    "\n",
    "is.not.a.number\n",
    "is.not.available "
   ]
  },
  {
   "cell_type": "markdown",
   "id": "following-confidentiality",
   "metadata": {},
   "source": [
    "On the other hand, NULL represent the value does not exit. "
   ]
  },
  {
   "cell_type": "code",
   "execution_count": 97,
   "id": "democratic-strengthening",
   "metadata": {},
   "outputs": [
    {
     "data": {
      "text/html": [
       "&lt;NA&gt;"
      ],
      "text/latex": [
       "<NA>"
      ],
      "text/markdown": [
       "&lt;NA&gt;"
      ],
      "text/plain": [
       "[1] NA"
      ]
     },
     "metadata": {},
     "output_type": "display_data"
    }
   ],
   "source": [
    "x <- c(1,2,3,NA)\n",
    "mean(x)"
   ]
  },
  {
   "cell_type": "code",
   "execution_count": 98,
   "id": "abroad-favorite",
   "metadata": {},
   "outputs": [
    {
     "data": {
      "text/html": [
       "2"
      ],
      "text/latex": [
       "2"
      ],
      "text/markdown": [
       "2"
      ],
      "text/plain": [
       "[1] 2"
      ]
     },
     "metadata": {},
     "output_type": "display_data"
    }
   ],
   "source": [
    "y <- c(1,2,3,NULL)\n",
    "mean(y)"
   ]
  },
  {
   "cell_type": "code",
   "execution_count": 99,
   "id": "brown-province",
   "metadata": {},
   "outputs": [
    {
     "ename": "ERROR",
     "evalue": "Error in na.fail.default(x): missing values in object\n",
     "output_type": "error",
     "traceback": [
      "Error in na.fail.default(x): missing values in object\nTraceback:\n",
      "1. na.fail(x)",
      "2. na.fail.default(x)",
      "3. stop(\"missing values in object\")"
     ]
    }
   ],
   "source": [
    "na.fail(x)"
   ]
  },
  {
   "cell_type": "code",
   "execution_count": 100,
   "id": "organizational-occupation",
   "metadata": {},
   "outputs": [
    {
     "data": {
      "text/html": [
       "<style>\n",
       ".list-inline {list-style: none; margin:0; padding: 0}\n",
       ".list-inline>li {display: inline-block}\n",
       ".list-inline>li:not(:last-child)::after {content: \"\\00b7\"; padding: 0 .5ex}\n",
       "</style>\n",
       "<ol class=list-inline><li>1</li><li>2</li><li>3</li></ol>\n"
      ],
      "text/latex": [
       "\\begin{enumerate*}\n",
       "\\item 1\n",
       "\\item 2\n",
       "\\item 3\n",
       "\\end{enumerate*}\n"
      ],
      "text/markdown": [
       "1. 1\n",
       "2. 2\n",
       "3. 3\n",
       "\n",
       "\n"
      ],
      "text/plain": [
       "[1] 1 2 3"
      ]
     },
     "metadata": {},
     "output_type": "display_data"
    }
   ],
   "source": [
    "na.fail(y)"
   ]
  },
  {
   "cell_type": "markdown",
   "id": "major-wilson",
   "metadata": {},
   "source": [
    "### Working with strings\n",
    "\n",
    "character strings : single element vectors \n",
    "\n",
    "mode : check datatype "
   ]
  },
  {
   "cell_type": "code",
   "execution_count": 38,
   "id": "medium-developer",
   "metadata": {},
   "outputs": [
    {
     "data": {
      "text/html": [
       "'character'"
      ],
      "text/latex": [
       "'character'"
      ],
      "text/markdown": [
       "'character'"
      ],
      "text/plain": [
       "[1] \"character\""
      ]
     },
     "metadata": {},
     "output_type": "display_data"
    },
    {
     "data": {
      "text/html": [
       "1"
      ],
      "text/latex": [
       "1"
      ],
      "text/markdown": [
       "1"
      ],
      "text/plain": [
       "[1] 1"
      ]
     },
     "metadata": {},
     "output_type": "display_data"
    }
   ],
   "source": [
    "x <- \"hello\"\n",
    "mode(x)\n",
    "length(x)"
   ]
  },
  {
   "cell_type": "code",
   "execution_count": 39,
   "id": "solar-soundtrack",
   "metadata": {},
   "outputs": [
    {
     "data": {
      "text/html": [
       "'hello world'"
      ],
      "text/latex": [
       "'hello world'"
      ],
      "text/markdown": [
       "'hello world'"
      ],
      "text/plain": [
       "[1] \"hello world\""
      ]
     },
     "metadata": {},
     "output_type": "display_data"
    }
   ],
   "source": [
    "# concatenate strings \n",
    "\n",
    "x <- paste(\"hello\",\"world\")\n",
    "x"
   ]
  },
  {
   "cell_type": "code",
   "execution_count": 41,
   "id": "sporting-usage",
   "metadata": {},
   "outputs": [
    {
     "data": {
      "text/html": [
       "<style>\n",
       ".list-inline {list-style: none; margin:0; padding: 0}\n",
       ".list-inline>li {display: inline-block}\n",
       ".list-inline>li:not(:last-child)::after {content: \"\\00b7\"; padding: 0 .5ex}\n",
       "</style>\n",
       "<ol class=list-inline><li>50</li><li>45</li><li>40</li><li>35</li><li>30</li><li>25</li><li>20</li><li>15</li><li>10</li><li>5</li><li>5</li><li>6</li><li>50</li><li>45</li><li>40</li><li>35</li><li>30</li><li>25</li><li>20</li><li>15</li><li>10</li><li>5</li><li>5</li><li>6</li></ol>\n"
      ],
      "text/latex": [
       "\\begin{enumerate*}\n",
       "\\item 50\n",
       "\\item 45\n",
       "\\item 40\n",
       "\\item 35\n",
       "\\item 30\n",
       "\\item 25\n",
       "\\item 20\n",
       "\\item 15\n",
       "\\item 10\n",
       "\\item 5\n",
       "\\item 5\n",
       "\\item 6\n",
       "\\item 50\n",
       "\\item 45\n",
       "\\item 40\n",
       "\\item 35\n",
       "\\item 30\n",
       "\\item 25\n",
       "\\item 20\n",
       "\\item 15\n",
       "\\item 10\n",
       "\\item 5\n",
       "\\item 5\n",
       "\\item 6\n",
       "\\end{enumerate*}\n"
      ],
      "text/markdown": [
       "1. 50\n",
       "2. 45\n",
       "3. 40\n",
       "4. 35\n",
       "5. 30\n",
       "6. 25\n",
       "7. 20\n",
       "8. 15\n",
       "9. 10\n",
       "10. 5\n",
       "11. 5\n",
       "12. 6\n",
       "13. 50\n",
       "14. 45\n",
       "15. 40\n",
       "16. 35\n",
       "17. 30\n",
       "18. 25\n",
       "19. 20\n",
       "20. 15\n",
       "21. 10\n",
       "22. 5\n",
       "23. 5\n",
       "24. 6\n",
       "\n",
       "\n"
      ],
      "text/plain": [
       " [1] 50 45 40 35 30 25 20 15 10  5  5  6 50 45 40 35 30 25 20 15 10  5  5  6"
      ]
     },
     "metadata": {},
     "output_type": "display_data"
    }
   ],
   "source": [
    "numeric.vector <- c(rep(c (5*10:1, 5, 6), 2))\n",
    "numeric.vector"
   ]
  },
  {
   "cell_type": "code",
   "execution_count": 43,
   "id": "instructional-benjamin",
   "metadata": {},
   "outputs": [
    {
     "data": {
      "text/html": [
       "<style>\n",
       ".list-inline {list-style: none; margin:0; padding: 0}\n",
       ".list-inline>li {display: inline-block}\n",
       ".list-inline>li:not(:last-child)::after {content: \"\\00b7\"; padding: 0 .5ex}\n",
       "</style>\n",
       "<ol class=list-inline><li>'50'</li><li>'45'</li><li>'40'</li><li>'35'</li><li>'30'</li><li>'25'</li><li>'20'</li><li>'15'</li><li>'10'</li><li>'5'</li><li>'5'</li><li>'6'</li><li>'50'</li><li>'45'</li><li>'40'</li><li>'35'</li><li>'30'</li><li>'25'</li><li>'20'</li><li>'15'</li><li>'10'</li><li>'5'</li><li>'5'</li><li>'6'</li></ol>\n"
      ],
      "text/latex": [
       "\\begin{enumerate*}\n",
       "\\item '50'\n",
       "\\item '45'\n",
       "\\item '40'\n",
       "\\item '35'\n",
       "\\item '30'\n",
       "\\item '25'\n",
       "\\item '20'\n",
       "\\item '15'\n",
       "\\item '10'\n",
       "\\item '5'\n",
       "\\item '5'\n",
       "\\item '6'\n",
       "\\item '50'\n",
       "\\item '45'\n",
       "\\item '40'\n",
       "\\item '35'\n",
       "\\item '30'\n",
       "\\item '25'\n",
       "\\item '20'\n",
       "\\item '15'\n",
       "\\item '10'\n",
       "\\item '5'\n",
       "\\item '5'\n",
       "\\item '6'\n",
       "\\end{enumerate*}\n"
      ],
      "text/markdown": [
       "1. '50'\n",
       "2. '45'\n",
       "3. '40'\n",
       "4. '35'\n",
       "5. '30'\n",
       "6. '25'\n",
       "7. '20'\n",
       "8. '15'\n",
       "9. '10'\n",
       "10. '5'\n",
       "11. '5'\n",
       "12. '6'\n",
       "13. '50'\n",
       "14. '45'\n",
       "15. '40'\n",
       "16. '35'\n",
       "17. '30'\n",
       "18. '25'\n",
       "19. '20'\n",
       "20. '15'\n",
       "21. '10'\n",
       "22. '5'\n",
       "23. '5'\n",
       "24. '6'\n",
       "\n",
       "\n"
      ],
      "text/plain": [
       " [1] \"50\" \"45\" \"40\" \"35\" \"30\" \"25\" \"20\" \"15\" \"10\" \"5\"  \"5\"  \"6\"  \"50\" \"45\" \"40\"\n",
       "[16] \"35\" \"30\" \"25\" \"20\" \"15\" \"10\" \"5\"  \"5\"  \"6\" "
      ]
     },
     "metadata": {},
     "output_type": "display_data"
    }
   ],
   "source": [
    "character.vector  <- as.character(numeric.vector)\n",
    "character.vector"
   ]
  },
  {
   "cell_type": "markdown",
   "id": "proved-faith",
   "metadata": {},
   "source": [
    "### list : contains that can hold different types \n",
    "\n",
    "Lists are a general form of vector in which the various elements need not be \n",
    "of the same type, and are often themselves vectors or lists. Lists provide a \n",
    "convenient way to return the results of a statistical computation."
   ]
  },
  {
   "cell_type": "code",
   "execution_count": 26,
   "id": "unlike-celtic",
   "metadata": {},
   "outputs": [
    {
     "data": {
      "text/html": [
       "<dl>\n",
       "\t<dt>$w</dt>\n",
       "\t\t<dd>2</dd>\n",
       "\t<dt>$v</dt>\n",
       "\t\t<dd>'GIS'</dd>\n",
       "</dl>\n"
      ],
      "text/latex": [
       "\\begin{description}\n",
       "\\item[\\$w] 2\n",
       "\\item[\\$v] 'GIS'\n",
       "\\end{description}\n"
      ],
      "text/markdown": [
       "$w\n",
       ":   2\n",
       "$v\n",
       ":   'GIS'\n",
       "\n",
       "\n"
      ],
      "text/plain": [
       "$w\n",
       "[1] 2\n",
       "\n",
       "$v\n",
       "[1] \"GIS\"\n"
      ]
     },
     "metadata": {},
     "output_type": "display_data"
    }
   ],
   "source": [
    "x <- list(w=2, v=\"GIS\")\n",
    "x"
   ]
  },
  {
   "cell_type": "code",
   "execution_count": 27,
   "id": "resident-missouri",
   "metadata": {},
   "outputs": [
    {
     "data": {
      "text/html": [
       "2"
      ],
      "text/latex": [
       "2"
      ],
      "text/markdown": [
       "2"
      ],
      "text/plain": [
       "[1] 2"
      ]
     },
     "metadata": {},
     "output_type": "display_data"
    }
   ],
   "source": [
    "# $ sign used to access list elements by names\n",
    "x$w"
   ]
  },
  {
   "cell_type": "code",
   "execution_count": 62,
   "id": "occasional-pledge",
   "metadata": {},
   "outputs": [
    {
     "data": {
      "text/html": [
       "'list'"
      ],
      "text/latex": [
       "'list'"
      ],
      "text/markdown": [
       "'list'"
      ],
      "text/plain": [
       "[1] \"list\""
      ]
     },
     "metadata": {},
     "output_type": "display_data"
    },
    {
     "data": {
      "text/html": [
       "'character'"
      ],
      "text/latex": [
       "'character'"
      ],
      "text/markdown": [
       "'character'"
      ],
      "text/plain": [
       "[1] \"character\""
      ]
     },
     "metadata": {},
     "output_type": "display_data"
    }
   ],
   "source": [
    "mode(x)\n",
    "mode(c(x$w,x$v))"
   ]
  },
  {
   "cell_type": "code",
   "execution_count": 65,
   "id": "removable-savannah",
   "metadata": {},
   "outputs": [
    {
     "data": {
      "text/html": [
       "'character'"
      ],
      "text/latex": [
       "'character'"
      ],
      "text/markdown": [
       "'character'"
      ],
      "text/plain": [
       "[1] \"character\""
      ]
     },
     "metadata": {},
     "output_type": "display_data"
    },
    {
     "data": {
      "text/html": [
       "'character'"
      ],
      "text/latex": [
       "'character'"
      ],
      "text/markdown": [
       "'character'"
      ],
      "text/plain": [
       "[1] \"character\""
      ]
     },
     "metadata": {},
     "output_type": "display_data"
    }
   ],
   "source": [
    "x <- c(2,\"GIS\")\n",
    "mode(x)\n",
    "mode(x[1])"
   ]
  },
  {
   "cell_type": "code",
   "execution_count": null,
   "id": "elementary-claim",
   "metadata": {},
   "outputs": [],
   "source": [
    "# show internal datasets \n",
    "\n",
    "data()"
   ]
  },
  {
   "cell_type": "code",
   "execution_count": 3,
   "id": "recent-retailer",
   "metadata": {},
   "outputs": [
    {
     "data": {
      "image/png": "[encoded data removed]",
      "text/plain": [
       "Plot with title “Histogram of Nile”"
      ]
     },
     "metadata": {
      "image/png": {
       "height": 420,
       "width": 420
      }
     },
     "output_type": "display_data"
    }
   ],
   "source": [
    "hn <- hist(Nile)"
   ]
  },
  {
   "cell_type": "code",
   "execution_count": 67,
   "id": "bibliographic-offer",
   "metadata": {},
   "outputs": [
    {
     "name": "stdout",
     "output_type": "stream",
     "text": [
      "$breaks\n",
      " [1]  400  500  600  700  800  900 1000 1100 1200 1300 1400\n",
      "\n",
      "$counts\n",
      " [1]  1  0  5 20 25 19 12 11  6  1\n",
      "\n",
      "$density\n",
      " [1] 0.0001 0.0000 0.0005 0.0020 0.0025 0.0019 0.0012 0.0011 0.0006 0.0001\n",
      "\n",
      "$mids\n",
      " [1]  450  550  650  750  850  950 1050 1150 1250 1350\n",
      "\n",
      "$xname\n",
      "[1] \"Nile\"\n",
      "\n",
      "$equidist\n",
      "[1] TRUE\n",
      "\n",
      "attr(,\"class\")\n",
      "[1] \"histogram\"\n"
     ]
    }
   ],
   "source": [
    "print (hn)"
   ]
  },
  {
   "cell_type": "code",
   "execution_count": 68,
   "id": "least-survey",
   "metadata": {},
   "outputs": [
    {
     "name": "stdout",
     "output_type": "stream",
     "text": [
      "List of 6\n",
      " $ breaks  : int [1:11] 400 500 600 700 800 900 1000 1100 1200 1300 ...\n",
      " $ counts  : int [1:10] 1 0 5 20 25 19 12 11 6 1\n",
      " $ density : num [1:10] 0.0001 0 0.0005 0.002 0.0025 0.0019 0.0012 0.0011 0.0006 0.0001\n",
      " $ mids    : num [1:10] 450 550 650 750 850 950 1050 1150 1250 1350\n",
      " $ xname   : chr \"Nile\"\n",
      " $ equidist: logi TRUE\n",
      " - attr(*, \"class\")= chr \"histogram\"\n"
     ]
    }
   ],
   "source": [
    "# str : structure\n",
    "str(hn)"
   ]
  },
  {
   "cell_type": "code",
   "execution_count": 69,
   "id": "divided-attack",
   "metadata": {},
   "outputs": [
    {
     "data": {
      "text/html": [
       "'list'"
      ],
      "text/latex": [
       "'list'"
      ],
      "text/markdown": [
       "'list'"
      ],
      "text/plain": [
       "[1] \"list\""
      ]
     },
     "metadata": {},
     "output_type": "display_data"
    }
   ],
   "source": [
    "mode(hn)"
   ]
  },
  {
   "cell_type": "code",
   "execution_count": 5,
   "id": "liked-roller",
   "metadata": {},
   "outputs": [
    {
     "data": {
      "text/plain": [
       "         Length Class  Mode     \n",
       "breaks   11     -none- numeric  \n",
       "counts   10     -none- numeric  \n",
       "density  10     -none- numeric  \n",
       "mids     10     -none- numeric  \n",
       "xname     1     -none- character\n",
       "equidist  1     -none- logical  "
      ]
     },
     "metadata": {},
     "output_type": "display_data"
    }
   ],
   "source": [
    "# summary is a generic function in R. It outputs a concise and more friendly representation of a list. \n",
    "summary(hn)"
   ]
  },
  {
   "cell_type": "markdown",
   "id": "lonely-saturday",
   "metadata": {},
   "source": [
    "Matrices\n",
    "\n",
    "Matrices, or more generally arrays, are multi-dimensional generalizations of \n",
    "vectors. In fact, they are vectors that can be indexed by two or more indices\n",
    "and will be printed in a special way.\n",
    "\n",
    "The matrix() function creates a matrix from the given set of values. We use \n",
    "the matrix(x, nrow=, ncol=) function to set the matrix cell values, the \n",
    "number of rows and the number of columns. We can use the colnames() and \n",
    "rownames() functions to set the column and row names of the matrix-like \n",
    "object."
   ]
  },
  {
   "cell_type": "code",
   "execution_count": 29,
   "id": "vertical-kazakhstan",
   "metadata": {},
   "outputs": [
    {
     "data": {
      "text/html": [
       "<table class=\"dataframe\">\n",
       "<caption>A matrix: 2 × 3 of type lgl</caption>\n",
       "<tbody>\n",
       "\t<tr><td>NA</td><td>NA</td><td>NA</td></tr>\n",
       "\t<tr><td>NA</td><td>NA</td><td>NA</td></tr>\n",
       "</tbody>\n",
       "</table>\n"
      ],
      "text/latex": [
       "A matrix: 2 × 3 of type lgl\n",
       "\\begin{tabular}{lll}\n",
       "\t NA & NA & NA\\\\\n",
       "\t NA & NA & NA\\\\\n",
       "\\end{tabular}\n"
      ],
      "text/markdown": [
       "\n",
       "A matrix: 2 × 3 of type lgl\n",
       "\n",
       "| NA | NA | NA |\n",
       "| NA | NA | NA |\n",
       "\n"
      ],
      "text/plain": [
       "     [,1] [,2] [,3]\n",
       "[1,] NA   NA   NA  \n",
       "[2,] NA   NA   NA  "
      ]
     },
     "metadata": {},
     "output_type": "display_data"
    }
   ],
   "source": [
    "matrix(data = NA, nrow = 2, ncol = 3) "
   ]
  },
  {
   "cell_type": "code",
   "execution_count": 32,
   "id": "ideal-curve",
   "metadata": {},
   "outputs": [
    {
     "data": {
      "text/html": [
       "<table class=\"dataframe\">\n",
       "<caption>A matrix: 2 × 3 of type dbl</caption>\n",
       "<tbody>\n",
       "\t<tr><td>0</td><td>0</td><td>0</td></tr>\n",
       "\t<tr><td>0</td><td>0</td><td>0</td></tr>\n",
       "</tbody>\n",
       "</table>\n"
      ],
      "text/latex": [
       "A matrix: 2 × 3 of type dbl\n",
       "\\begin{tabular}{lll}\n",
       "\t 0 & 0 & 0\\\\\n",
       "\t 0 & 0 & 0\\\\\n",
       "\\end{tabular}\n"
      ],
      "text/markdown": [
       "\n",
       "A matrix: 2 × 3 of type dbl\n",
       "\n",
       "| 0 | 0 | 0 |\n",
       "| 0 | 0 | 0 |\n",
       "\n"
      ],
      "text/plain": [
       "     [,1] [,2] [,3]\n",
       "[1,] 0    0    0   \n",
       "[2,] 0    0    0   "
      ]
     },
     "metadata": {},
     "output_type": "display_data"
    }
   ],
   "source": [
    "example.matrix <- matrix(0,2,3)\n",
    "example.matrix"
   ]
  },
  {
   "cell_type": "code",
   "execution_count": 33,
   "id": "incident-challenge",
   "metadata": {},
   "outputs": [
    {
     "data": {
      "text/html": [
       "<style>\n",
       ".list-inline {list-style: none; margin:0; padding: 0}\n",
       ".list-inline>li {display: inline-block}\n",
       ".list-inline>li:not(:last-child)::after {content: \"\\00b7\"; padding: 0 .5ex}\n",
       "</style>\n",
       "<ol class=list-inline><li>0</li><li>0</li><li>0</li></ol>\n"
      ],
      "text/latex": [
       "\\begin{enumerate*}\n",
       "\\item 0\n",
       "\\item 0\n",
       "\\item 0\n",
       "\\end{enumerate*}\n"
      ],
      "text/markdown": [
       "1. 0\n",
       "2. 0\n",
       "3. 0\n",
       "\n",
       "\n"
      ],
      "text/plain": [
       "[1] 0 0 0"
      ]
     },
     "metadata": {},
     "output_type": "display_data"
    }
   ],
   "source": [
    "example.matrix[1,]"
   ]
  },
  {
   "cell_type": "code",
   "execution_count": 34,
   "id": "little-language",
   "metadata": {},
   "outputs": [
    {
     "data": {
      "text/html": [
       "<style>\n",
       ".list-inline {list-style: none; margin:0; padding: 0}\n",
       ".list-inline>li {display: inline-block}\n",
       ".list-inline>li:not(:last-child)::after {content: \"\\00b7\"; padding: 0 .5ex}\n",
       "</style>\n",
       "<ol class=list-inline><li>0</li><li>0</li></ol>\n"
      ],
      "text/latex": [
       "\\begin{enumerate*}\n",
       "\\item 0\n",
       "\\item 0\n",
       "\\end{enumerate*}\n"
      ],
      "text/markdown": [
       "1. 0\n",
       "2. 0\n",
       "\n",
       "\n"
      ],
      "text/plain": [
       "[1] 0 0"
      ]
     },
     "metadata": {},
     "output_type": "display_data"
    }
   ],
   "source": [
    "example.matrix[,2]"
   ]
  },
  {
   "cell_type": "code",
   "execution_count": 35,
   "id": "seven-romantic",
   "metadata": {},
   "outputs": [
    {
     "data": {
      "text/html": [
       "<table class=\"dataframe\">\n",
       "<caption>A matrix: 2 × 3 of type dbl</caption>\n",
       "<tbody>\n",
       "\t<tr><td>1</td><td> 2</td><td>3</td></tr>\n",
       "\t<tr><td>5</td><td>10</td><td>4</td></tr>\n",
       "</tbody>\n",
       "</table>\n"
      ],
      "text/latex": [
       "A matrix: 2 × 3 of type dbl\n",
       "\\begin{tabular}{lll}\n",
       "\t 1 &  2 & 3\\\\\n",
       "\t 5 & 10 & 4\\\\\n",
       "\\end{tabular}\n"
      ],
      "text/markdown": [
       "\n",
       "A matrix: 2 × 3 of type dbl\n",
       "\n",
       "| 1 |  2 | 3 |\n",
       "| 5 | 10 | 4 |\n",
       "\n"
      ],
      "text/plain": [
       "     [,1] [,2] [,3]\n",
       "[1,] 1     2   3   \n",
       "[2,] 5    10   4   "
      ]
     },
     "metadata": {},
     "output_type": "display_data"
    }
   ],
   "source": [
    "example.matrix[1,] <- 1:3\n",
    "example.matrix[2,] <- c(5,10,4)\n",
    "example.matrix"
   ]
  },
  {
   "cell_type": "code",
   "execution_count": 44,
   "id": "sporting-shaft",
   "metadata": {},
   "outputs": [],
   "source": [
    "matrix.head <- c(\"col a\",\"col b\",\"column c\")\n",
    "matrix.side <- c(\"first raw\",\"second raw\")"
   ]
  },
  {
   "cell_type": "code",
   "execution_count": 45,
   "id": "thousand-flight",
   "metadata": {},
   "outputs": [
    {
     "data": {
      "text/html": [
       "<table class=\"dataframe\">\n",
       "<caption>A matrix: 2 × 3 of type dbl</caption>\n",
       "<thead>\n",
       "\t<tr><th></th><th scope=col>col a</th><th scope=col>col b</th><th scope=col>column c</th></tr>\n",
       "</thead>\n",
       "<tbody>\n",
       "\t<tr><th scope=row>first raw</th><td>1</td><td> 2</td><td>3</td></tr>\n",
       "\t<tr><th scope=row>second raw</th><td>5</td><td>10</td><td>4</td></tr>\n",
       "</tbody>\n",
       "</table>\n"
      ],
      "text/latex": [
       "A matrix: 2 × 3 of type dbl\n",
       "\\begin{tabular}{r|lll}\n",
       "  & col a & col b & column c\\\\\n",
       "\\hline\n",
       "\tfirst raw & 1 &  2 & 3\\\\\n",
       "\tsecond raw & 5 & 10 & 4\\\\\n",
       "\\end{tabular}\n"
      ],
      "text/markdown": [
       "\n",
       "A matrix: 2 × 3 of type dbl\n",
       "\n",
       "| <!--/--> | col a | col b | column c |\n",
       "|---|---|---|---|\n",
       "| first raw | 1 |  2 | 3 |\n",
       "| second raw | 5 | 10 | 4 |\n",
       "\n"
      ],
      "text/plain": [
       "           col a col b column c\n",
       "first raw  1      2    3       \n",
       "second raw 5     10    4       "
      ]
     },
     "metadata": {},
     "output_type": "display_data"
    }
   ],
   "source": [
    "colnames(example.matrix) = matrix.head\n",
    "rownames(example.matrix) = matrix.side\n",
    "example.matrix"
   ]
  },
  {
   "cell_type": "code",
   "execution_count": 52,
   "id": "written-multimedia",
   "metadata": {},
   "outputs": [
    {
     "name": "stdout",
     "output_type": "stream",
     "text": [
      " num [1:2, 1:3] 1 5 2 10 3 4\n",
      " - attr(*, \"dimnames\")=List of 2\n",
      "  ..$ : chr [1:2] \"first raw\" \"second raw\"\n",
      "  ..$ : chr [1:3] \"col a\" \"col b\" \"column c\"\n"
     ]
    }
   ],
   "source": [
    "# The structure function str(object.name) informs you of the structure of a\n",
    "# specific object\n",
    "\n",
    "str(example.matrix)"
   ]
  },
  {
   "cell_type": "markdown",
   "id": "missing-arnold",
   "metadata": {},
   "source": [
    "Arrays\n",
    "\n",
    "An array can be considered a multiple subscripted collection of data \n",
    "entries, for example numeric. R allows simple facilities for creating \n",
    "and handling arrays, and in particular the special case of matrices. \n",
    "\n",
    "As well as giving a vector structure a dim attribute, arrays can be \n",
    "constructed from vectors by the array function, which has the form \n",
    "array(data_vector, dim_vector)"
   ]
  },
  {
   "cell_type": "code",
   "execution_count": 60,
   "id": "parallel-weather",
   "metadata": {},
   "outputs": [
    {
     "data": {
      "text/html": [
       "<style>\n",
       ".list-inline {list-style: none; margin:0; padding: 0}\n",
       ".list-inline>li {display: inline-block}\n",
       ".list-inline>li:not(:last-child)::after {content: \"\\00b7\"; padding: 0 .5ex}\n",
       "</style>\n",
       "<ol class=list-inline><li>1</li><li>2</li><li>3</li><li>4</li><li>5</li><li>6</li><li>7</li><li>8</li><li>9</li><li>10</li><li>11</li><li>12</li><li>13</li><li>14</li><li>15</li><li>16</li><li>17</li><li>18</li><li>19</li><li>20</li><li>21</li><li>22</li><li>23</li><li>24</li></ol>\n"
      ],
      "text/latex": [
       "\\begin{enumerate*}\n",
       "\\item 1\n",
       "\\item 2\n",
       "\\item 3\n",
       "\\item 4\n",
       "\\item 5\n",
       "\\item 6\n",
       "\\item 7\n",
       "\\item 8\n",
       "\\item 9\n",
       "\\item 10\n",
       "\\item 11\n",
       "\\item 12\n",
       "\\item 13\n",
       "\\item 14\n",
       "\\item 15\n",
       "\\item 16\n",
       "\\item 17\n",
       "\\item 18\n",
       "\\item 19\n",
       "\\item 20\n",
       "\\item 21\n",
       "\\item 22\n",
       "\\item 23\n",
       "\\item 24\n",
       "\\end{enumerate*}\n"
      ],
      "text/markdown": [
       "1. 1\n",
       "2. 2\n",
       "3. 3\n",
       "4. 4\n",
       "5. 5\n",
       "6. 6\n",
       "7. 7\n",
       "8. 8\n",
       "9. 9\n",
       "10. 10\n",
       "11. 11\n",
       "12. 12\n",
       "13. 13\n",
       "14. 14\n",
       "15. 15\n",
       "16. 16\n",
       "17. 17\n",
       "18. 18\n",
       "19. 19\n",
       "20. 20\n",
       "21. 21\n",
       "22. 22\n",
       "23. 23\n",
       "24. 24\n",
       "\n",
       "\n"
      ],
      "text/plain": [
       ", , 1\n",
       "\n",
       "     [,1] [,2] [,3] [,4]\n",
       "[1,]    1    4    7   10\n",
       "[2,]    2    5    8   11\n",
       "[3,]    3    6    9   12\n",
       "\n",
       ", , 2\n",
       "\n",
       "     [,1] [,2] [,3] [,4]\n",
       "[1,]   13   16   19   22\n",
       "[2,]   14   17   20   23\n",
       "[3,]   15   18   21   24\n"
      ]
     },
     "metadata": {},
     "output_type": "display_data"
    }
   ],
   "source": [
    "Z <- array(1:24, c(3,4,2))\n",
    "Z"
   ]
  },
  {
   "cell_type": "code",
   "execution_count": 56,
   "id": "historical-ontario",
   "metadata": {},
   "outputs": [
    {
     "name": "stdout",
     "output_type": "stream",
     "text": [
      " int [1:3, 1:4, 1:2] 1 2 3 4 5 6 7 8 9 10 ...\n"
     ]
    }
   ],
   "source": [
    "str(Z)"
   ]
  },
  {
   "cell_type": "markdown",
   "id": "included-savage",
   "metadata": {},
   "source": [
    "## list and delete R objects \n",
    "\n",
    "The list function ls() outputs a list of existing R objects.\n",
    "\n",
    "rm() removes the object."
   ]
  },
  {
   "cell_type": "code",
   "execution_count": 57,
   "id": "abstract-peace",
   "metadata": {},
   "outputs": [
    {
     "data": {
      "text/html": [
       "<style>\n",
       ".list-inline {list-style: none; margin:0; padding: 0}\n",
       ".list-inline>li {display: inline-block}\n",
       ".list-inline>li:not(:last-child)::after {content: \"\\00b7\"; padding: 0 .5ex}\n",
       "</style>\n",
       "<ol class=list-inline><li>'character.vector'</li><li>'example.matrix'</li><li>'hn'</li><li>'ind'</li><li>'is.not.a.number'</li><li>'is.not.available'</li><li>'matrix.head'</li><li>'matrix.side'</li><li>'numeric.vector'</li><li>'one2three'</li><li>'x'</li><li>'z'</li><li>'Z'</li></ol>\n"
      ],
      "text/latex": [
       "\\begin{enumerate*}\n",
       "\\item 'character.vector'\n",
       "\\item 'example.matrix'\n",
       "\\item 'hn'\n",
       "\\item 'ind'\n",
       "\\item 'is.not.a.number'\n",
       "\\item 'is.not.available'\n",
       "\\item 'matrix.head'\n",
       "\\item 'matrix.side'\n",
       "\\item 'numeric.vector'\n",
       "\\item 'one2three'\n",
       "\\item 'x'\n",
       "\\item 'z'\n",
       "\\item 'Z'\n",
       "\\end{enumerate*}\n"
      ],
      "text/markdown": [
       "1. 'character.vector'\n",
       "2. 'example.matrix'\n",
       "3. 'hn'\n",
       "4. 'ind'\n",
       "5. 'is.not.a.number'\n",
       "6. 'is.not.available'\n",
       "7. 'matrix.head'\n",
       "8. 'matrix.side'\n",
       "9. 'numeric.vector'\n",
       "10. 'one2three'\n",
       "11. 'x'\n",
       "12. 'z'\n",
       "13. 'Z'\n",
       "\n",
       "\n"
      ],
      "text/plain": [
       " [1] \"character.vector\" \"example.matrix\"   \"hn\"               \"ind\"             \n",
       " [5] \"is.not.a.number\"  \"is.not.available\" \"matrix.head\"      \"matrix.side\"     \n",
       " [9] \"numeric.vector\"   \"one2three\"        \"x\"                \"z\"               \n",
       "[13] \"Z\"               "
      ]
     },
     "metadata": {},
     "output_type": "display_data"
    }
   ],
   "source": [
    "ls ()"
   ]
  },
  {
   "cell_type": "code",
   "execution_count": 61,
   "id": "checked-occasions",
   "metadata": {},
   "outputs": [
    {
     "data": {
      "text/html": [
       "<style>\n",
       ".list-inline {list-style: none; margin:0; padding: 0}\n",
       ".list-inline>li {display: inline-block}\n",
       ".list-inline>li:not(:last-child)::after {content: \"\\00b7\"; padding: 0 .5ex}\n",
       "</style>\n",
       "<ol class=list-inline><li>'character.vector'</li><li>'example.matrix'</li><li>'hn'</li><li>'ind'</li><li>'is.not.a.number'</li><li>'is.not.available'</li><li>'matrix.head'</li><li>'matrix.side'</li><li>'numeric.vector'</li><li>'one2three'</li><li>'x'</li><li>'z'</li></ol>\n"
      ],
      "text/latex": [
       "\\begin{enumerate*}\n",
       "\\item 'character.vector'\n",
       "\\item 'example.matrix'\n",
       "\\item 'hn'\n",
       "\\item 'ind'\n",
       "\\item 'is.not.a.number'\n",
       "\\item 'is.not.available'\n",
       "\\item 'matrix.head'\n",
       "\\item 'matrix.side'\n",
       "\\item 'numeric.vector'\n",
       "\\item 'one2three'\n",
       "\\item 'x'\n",
       "\\item 'z'\n",
       "\\end{enumerate*}\n"
      ],
      "text/markdown": [
       "1. 'character.vector'\n",
       "2. 'example.matrix'\n",
       "3. 'hn'\n",
       "4. 'ind'\n",
       "5. 'is.not.a.number'\n",
       "6. 'is.not.available'\n",
       "7. 'matrix.head'\n",
       "8. 'matrix.side'\n",
       "9. 'numeric.vector'\n",
       "10. 'one2three'\n",
       "11. 'x'\n",
       "12. 'z'\n",
       "\n",
       "\n"
      ],
      "text/plain": [
       " [1] \"character.vector\" \"example.matrix\"   \"hn\"               \"ind\"             \n",
       " [5] \"is.not.a.number\"  \"is.not.available\" \"matrix.head\"      \"matrix.side\"     \n",
       " [9] \"numeric.vector\"   \"one2three\"        \"x\"                \"z\"               "
      ]
     },
     "metadata": {},
     "output_type": "display_data"
    }
   ],
   "source": [
    "rm (Z)\n",
    "ls ()"
   ]
  },
  {
   "cell_type": "markdown",
   "id": "british-effect",
   "metadata": {},
   "source": [
    "## Data Frames\n",
    "\n",
    "Data frames are matrix-like structures, in which the columns can be \n",
    "of different types. Think of data frames as  data matrices  with one row per \n",
    "observational unit but with (possibly) both numerical and categorical \n",
    "variables. Many experiments are best described by data frames: the treatments\n",
    "are categorical but the response is numeric. \n",
    "\n",
    "As a result R dataframes are tightly coupled collections of variables which \n",
    "share many of the properties of matrices and of lists. Data frames are used \n",
    "as the fundamental data structure by most of R's modeling software.\n",
    "\n",
    "A data frame is a list with class \"data.frame\". There are restrictions on \n",
    "lists that may be made into data frames, namely :\n",
    "\n",
    "The components must be vectors (numeric, character, or logical), factors, \n",
    "numeric matrices, lists, or other data frames.\n",
    "Matrices, lists, and data frames provide as many variables to the new data \n",
    "frame as they have columns, elements, or variables, respectively.\n",
    "Numeric vectors, logicals and factors are included, and character vectors \n",
    "are coerced to be factors, whose levels are the unique values appearing in\n",
    "the vector.\n",
    "Vector structures appearing as variables of the data frame must all have the\n",
    "same length, and matrix structures must all have the same row size. "
   ]
  },
  {
   "cell_type": "markdown",
   "id": "concrete-fifty",
   "metadata": {},
   "source": [
    "### Dataframe construction "
   ]
  },
  {
   "cell_type": "code",
   "execution_count": 62,
   "id": "civic-nickname",
   "metadata": {},
   "outputs": [
    {
     "data": {
      "text/html": [
       "<table class=\"dataframe\">\n",
       "<caption>A data.frame: 4 × 3</caption>\n",
       "<thead>\n",
       "\t<tr><th scope=col>v</th><th scope=col>ch</th><th scope=col>n</th></tr>\n",
       "\t<tr><th scope=col>&lt;int&gt;</th><th scope=col>&lt;chr&gt;</th><th scope=col>&lt;dbl&gt;</th></tr>\n",
       "</thead>\n",
       "<tbody>\n",
       "\t<tr><td>1</td><td>a</td><td>10</td></tr>\n",
       "\t<tr><td>2</td><td>b</td><td>10</td></tr>\n",
       "\t<tr><td>3</td><td>c</td><td>10</td></tr>\n",
       "\t<tr><td>4</td><td>d</td><td>10</td></tr>\n",
       "</tbody>\n",
       "</table>\n"
      ],
      "text/latex": [
       "A data.frame: 4 × 3\n",
       "\\begin{tabular}{lll}\n",
       " v & ch & n\\\\\n",
       " <int> & <chr> & <dbl>\\\\\n",
       "\\hline\n",
       "\t 1 & a & 10\\\\\n",
       "\t 2 & b & 10\\\\\n",
       "\t 3 & c & 10\\\\\n",
       "\t 4 & d & 10\\\\\n",
       "\\end{tabular}\n"
      ],
      "text/markdown": [
       "\n",
       "A data.frame: 4 × 3\n",
       "\n",
       "| v &lt;int&gt; | ch &lt;chr&gt; | n &lt;dbl&gt; |\n",
       "|---|---|---|\n",
       "| 1 | a | 10 |\n",
       "| 2 | b | 10 |\n",
       "| 3 | c | 10 |\n",
       "| 4 | d | 10 |\n",
       "\n"
      ],
      "text/plain": [
       "  v ch n \n",
       "1 1 a  10\n",
       "2 2 b  10\n",
       "3 3 c  10\n",
       "4 4 d  10"
      ]
     },
     "metadata": {},
     "output_type": "display_data"
    }
   ],
   "source": [
    "my.data.frame = data.frame(v = 1:4, ch = c(\"a\", \"b\", \"c\", \"d\"), n = 10)\n",
    "my.data.frame"
   ]
  },
  {
   "cell_type": "code",
   "execution_count": 63,
   "id": "removed-criminal",
   "metadata": {},
   "outputs": [
    {
     "data": {
      "text/html": [
       "<table class=\"dataframe\">\n",
       "<caption>A data.frame: 4 × 3</caption>\n",
       "<thead>\n",
       "\t<tr><th></th><th scope=col>vector</th><th scope=col>character</th><th scope=col>const.vector</th></tr>\n",
       "\t<tr><th></th><th scope=col>&lt;int&gt;</th><th scope=col>&lt;chr&gt;</th><th scope=col>&lt;dbl&gt;</th></tr>\n",
       "</thead>\n",
       "<tbody>\n",
       "\t<tr><th scope=row>data1</th><td>1</td><td>a</td><td>10</td></tr>\n",
       "\t<tr><th scope=row>data2</th><td>2</td><td>b</td><td>10</td></tr>\n",
       "\t<tr><th scope=row>data3</th><td>3</td><td>c</td><td>10</td></tr>\n",
       "\t<tr><th scope=row>data4</th><td>4</td><td>d</td><td>10</td></tr>\n",
       "</tbody>\n",
       "</table>\n"
      ],
      "text/latex": [
       "A data.frame: 4 × 3\n",
       "\\begin{tabular}{r|lll}\n",
       "  & vector & character & const.vector\\\\\n",
       "  & <int> & <chr> & <dbl>\\\\\n",
       "\\hline\n",
       "\tdata1 & 1 & a & 10\\\\\n",
       "\tdata2 & 2 & b & 10\\\\\n",
       "\tdata3 & 3 & c & 10\\\\\n",
       "\tdata4 & 4 & d & 10\\\\\n",
       "\\end{tabular}\n"
      ],
      "text/markdown": [
       "\n",
       "A data.frame: 4 × 3\n",
       "\n",
       "| <!--/--> | vector &lt;int&gt; | character &lt;chr&gt; | const.vector &lt;dbl&gt; |\n",
       "|---|---|---|---|\n",
       "| data1 | 1 | a | 10 |\n",
       "| data2 | 2 | b | 10 |\n",
       "| data3 | 3 | c | 10 |\n",
       "| data4 | 4 | d | 10 |\n",
       "\n"
      ],
      "text/plain": [
       "      vector character const.vector\n",
       "data1 1      a         10          \n",
       "data2 2      b         10          \n",
       "data3 3      c         10          \n",
       "data4 4      d         10          "
      ]
     },
     "metadata": {},
     "output_type": "display_data"
    }
   ],
   "source": [
    "# Or:\n",
    "\n",
    "my.data.frame = data.frame(vector = 1:4,\n",
    "                           character = c(\"a\", \"b\", \"c\", \"d\"),\n",
    "                           const.vector = 10,\n",
    "                           row.names =c(\"data1\", \"data2\", \"data3\", \"data4\"))\n",
    "my.data.frame"
   ]
  },
  {
   "cell_type": "markdown",
   "id": "front-advancement",
   "metadata": {},
   "source": [
    "### Data selection and manipulation"
   ]
  },
  {
   "cell_type": "code",
   "execution_count": 64,
   "id": "composed-standing",
   "metadata": {},
   "outputs": [
    {
     "data": {
      "text/html": [
       "<style>\n",
       ".list-inline {list-style: none; margin:0; padding: 0}\n",
       ".list-inline>li {display: inline-block}\n",
       ".list-inline>li:not(:last-child)::after {content: \"\\00b7\"; padding: 0 .5ex}\n",
       "</style>\n",
       "<ol class=list-inline><li>'a'</li><li>'b'</li><li>'c'</li><li>'d'</li></ol>\n"
      ],
      "text/latex": [
       "\\begin{enumerate*}\n",
       "\\item 'a'\n",
       "\\item 'b'\n",
       "\\item 'c'\n",
       "\\item 'd'\n",
       "\\end{enumerate*}\n"
      ],
      "text/markdown": [
       "1. 'a'\n",
       "2. 'b'\n",
       "3. 'c'\n",
       "4. 'd'\n",
       "\n",
       "\n"
      ],
      "text/plain": [
       "[1] \"a\" \"b\" \"c\" \"d\""
      ]
     },
     "metadata": {},
     "output_type": "display_data"
    },
    {
     "data": {
      "text/html": [
       "<style>\n",
       ".list-inline {list-style: none; margin:0; padding: 0}\n",
       ".list-inline>li {display: inline-block}\n",
       ".list-inline>li:not(:last-child)::after {content: \"\\00b7\"; padding: 0 .5ex}\n",
       "</style>\n",
       "<ol class=list-inline><li>'a'</li><li>'b'</li><li>'c'</li><li>'d'</li></ol>\n"
      ],
      "text/latex": [
       "\\begin{enumerate*}\n",
       "\\item 'a'\n",
       "\\item 'b'\n",
       "\\item 'c'\n",
       "\\item 'd'\n",
       "\\end{enumerate*}\n"
      ],
      "text/markdown": [
       "1. 'a'\n",
       "2. 'b'\n",
       "3. 'c'\n",
       "4. 'd'\n",
       "\n",
       "\n"
      ],
      "text/plain": [
       "[1] \"a\" \"b\" \"c\" \"d\""
      ]
     },
     "metadata": {},
     "output_type": "display_data"
    }
   ],
   "source": [
    "# You can extract data from dataframes using the    [ [    ] ]  and  $  sign:\n",
    "\n",
    "my.data.frame[[\"character\"]]\n",
    "\n",
    "my.data.frame[[2]]"
   ]
  },
  {
   "cell_type": "code",
   "execution_count": 66,
   "id": "sustainable-mention",
   "metadata": {},
   "outputs": [
    {
     "data": {
      "text/html": [
       "'c'"
      ],
      "text/latex": [
       "'c'"
      ],
      "text/markdown": [
       "'c'"
      ],
      "text/plain": [
       "[1] \"c\""
      ]
     },
     "metadata": {},
     "output_type": "display_data"
    }
   ],
   "source": [
    "# Call the 3rd value of the character vector:\n",
    "\n",
    "my.data.frame[[2]][3]"
   ]
  },
  {
   "cell_type": "code",
   "execution_count": 67,
   "id": "dependent-infrastructure",
   "metadata": {},
   "outputs": [
    {
     "data": {
      "text/html": [
       "<style>\n",
       ".list-inline {list-style: none; margin:0; padding: 0}\n",
       ".list-inline>li {display: inline-block}\n",
       ".list-inline>li:not(:last-child)::after {content: \"\\00b7\"; padding: 0 .5ex}\n",
       "</style>\n",
       "<ol class=list-inline><li>1</li><li>2</li><li>3</li><li>4</li></ol>\n"
      ],
      "text/latex": [
       "\\begin{enumerate*}\n",
       "\\item 1\n",
       "\\item 2\n",
       "\\item 3\n",
       "\\item 4\n",
       "\\end{enumerate*}\n"
      ],
      "text/markdown": [
       "1. 1\n",
       "2. 2\n",
       "3. 3\n",
       "4. 4\n",
       "\n",
       "\n"
      ],
      "text/plain": [
       "[1] 1 2 3 4"
      ]
     },
     "metadata": {},
     "output_type": "display_data"
    },
    {
     "data": {
      "text/html": [
       "<style>\n",
       ".list-inline {list-style: none; margin:0; padding: 0}\n",
       ".list-inline>li {display: inline-block}\n",
       ".list-inline>li:not(:last-child)::after {content: \"\\00b7\"; padding: 0 .5ex}\n",
       "</style>\n",
       "<ol class=list-inline><li>'b'</li><li>'c'</li></ol>\n"
      ],
      "text/latex": [
       "\\begin{enumerate*}\n",
       "\\item 'b'\n",
       "\\item 'c'\n",
       "\\end{enumerate*}\n"
      ],
      "text/markdown": [
       "1. 'b'\n",
       "2. 'c'\n",
       "\n",
       "\n"
      ],
      "text/plain": [
       "[1] \"b\" \"c\""
      ]
     },
     "metadata": {},
     "output_type": "display_data"
    }
   ],
   "source": [
    "# Or using the $ syntax:\n",
    "  \n",
    "my.data.frame$vector\n",
    "  \n",
    "my.data.frame$character[2:3]"
   ]
  },
  {
   "cell_type": "code",
   "execution_count": 68,
   "id": "matched-fountain",
   "metadata": {},
   "outputs": [
    {
     "data": {
      "text/plain": [
       "NULL"
      ]
     },
     "metadata": {},
     "output_type": "display_data"
    },
    {
     "data": {
      "text/html": [
       "<table class=\"dataframe\">\n",
       "<caption>A data.frame: 4 × 4</caption>\n",
       "<thead>\n",
       "\t<tr><th></th><th scope=col>vector</th><th scope=col>character</th><th scope=col>const.vector</th><th scope=col>new</th></tr>\n",
       "\t<tr><th></th><th scope=col>&lt;int&gt;</th><th scope=col>&lt;chr&gt;</th><th scope=col>&lt;dbl&gt;</th><th scope=col>&lt;dbl&gt;</th></tr>\n",
       "</thead>\n",
       "<tbody>\n",
       "\t<tr><th scope=row>data1</th><td>1</td><td>a</td><td>10</td><td>10</td></tr>\n",
       "\t<tr><th scope=row>data2</th><td>2</td><td>b</td><td>10</td><td>11</td></tr>\n",
       "\t<tr><th scope=row>data3</th><td>3</td><td>c</td><td>10</td><td>20</td></tr>\n",
       "\t<tr><th scope=row>data4</th><td>4</td><td>d</td><td>10</td><td>40</td></tr>\n",
       "</tbody>\n",
       "</table>\n"
      ],
      "text/latex": [
       "A data.frame: 4 × 4\n",
       "\\begin{tabular}{r|llll}\n",
       "  & vector & character & const.vector & new\\\\\n",
       "  & <int> & <chr> & <dbl> & <dbl>\\\\\n",
       "\\hline\n",
       "\tdata1 & 1 & a & 10 & 10\\\\\n",
       "\tdata2 & 2 & b & 10 & 11\\\\\n",
       "\tdata3 & 3 & c & 10 & 20\\\\\n",
       "\tdata4 & 4 & d & 10 & 40\\\\\n",
       "\\end{tabular}\n"
      ],
      "text/markdown": [
       "\n",
       "A data.frame: 4 × 4\n",
       "\n",
       "| <!--/--> | vector &lt;int&gt; | character &lt;chr&gt; | const.vector &lt;dbl&gt; | new &lt;dbl&gt; |\n",
       "|---|---|---|---|---|\n",
       "| data1 | 1 | a | 10 | 10 |\n",
       "| data2 | 2 | b | 10 | 11 |\n",
       "| data3 | 3 | c | 10 | 20 |\n",
       "| data4 | 4 | d | 10 | 40 |\n",
       "\n"
      ],
      "text/plain": [
       "      vector character const.vector new\n",
       "data1 1      a         10           10 \n",
       "data2 2      b         10           11 \n",
       "data3 3      c         10           20 \n",
       "data4 4      d         10           40 "
      ]
     },
     "metadata": {},
     "output_type": "display_data"
    }
   ],
   "source": [
    "# You can add single arguments to a data frame, query information, select and \n",
    "# manipulate arguments or single values from a dataframe \n",
    "  \n",
    "my.data.frame$new\n",
    "\n",
    "my.data.frame$new = c(10,11,20,40)\n",
    "my.data.frame"
   ]
  },
  {
   "cell_type": "code",
   "execution_count": 69,
   "id": "mechanical-ranking",
   "metadata": {},
   "outputs": [
    {
     "data": {
      "text/html": [
       "4"
      ],
      "text/latex": [
       "4"
      ],
      "text/markdown": [
       "4"
      ],
      "text/plain": [
       "[1] 4"
      ]
     },
     "metadata": {},
     "output_type": "display_data"
    }
   ],
   "source": [
    "# length(object.name) returns the number of elements in an object such as \n",
    "# matrix vector or dataframes:\n",
    "  \n",
    "length(my.data.frame$new) "
   ]
  },
  {
   "cell_type": "code",
   "execution_count": 70,
   "id": "hairy-original",
   "metadata": {},
   "outputs": [
    {
     "data": {
      "text/html": [
       "4"
      ],
      "text/latex": [
       "4"
      ],
      "text/markdown": [
       "4"
      ],
      "text/plain": [
       "[1] 4"
      ]
     },
     "metadata": {},
     "output_type": "display_data"
    },
    {
     "data": {
      "text/html": [
       "3"
      ],
      "text/latex": [
       "3"
      ],
      "text/markdown": [
       "3"
      ],
      "text/plain": [
       "[1] 3"
      ]
     },
     "metadata": {},
     "output_type": "display_data"
    }
   ],
   "source": [
    "# which(object.name) and which.max(object.name) return the index of a specific\n",
    "# or of the greatest element of an object\n",
    "    \n",
    "which.max(my.data.frame$new) \n",
    "\n",
    "which(my.data.frame$new == 20) "
   ]
  },
  {
   "cell_type": "code",
   "execution_count": 71,
   "id": "economic-developer",
   "metadata": {},
   "outputs": [
    {
     "data": {
      "text/html": [
       "40"
      ],
      "text/latex": [
       "40"
      ],
      "text/markdown": [
       "40"
      ],
      "text/plain": [
       "[1] 40"
      ]
     },
     "metadata": {},
     "output_type": "display_data"
    }
   ],
   "source": [
    "# max(object.name) returns the value of the greatest element\n",
    "  \n",
    "max(my.data.frame$new) "
   ]
  },
  {
   "cell_type": "code",
   "execution_count": 72,
   "id": "ambient-reggae",
   "metadata": {},
   "outputs": [
    {
     "data": {
      "text/html": [
       "<style>\n",
       ".list-inline {list-style: none; margin:0; padding: 0}\n",
       ".list-inline>li {display: inline-block}\n",
       ".list-inline>li:not(:last-child)::after {content: \"\\00b7\"; padding: 0 .5ex}\n",
       "</style>\n",
       "<ol class=list-inline><li>10</li><li>11</li><li>20</li><li>40</li></ol>\n"
      ],
      "text/latex": [
       "\\begin{enumerate*}\n",
       "\\item 10\n",
       "\\item 11\n",
       "\\item 20\n",
       "\\item 40\n",
       "\\end{enumerate*}\n"
      ],
      "text/markdown": [
       "1. 10\n",
       "2. 11\n",
       "3. 20\n",
       "4. 40\n",
       "\n",
       "\n"
      ],
      "text/plain": [
       "[1] 10 11 20 40"
      ]
     },
     "metadata": {},
     "output_type": "display_data"
    }
   ],
   "source": [
    "# sort(object.name) sort from small to big \n",
    "  \n",
    "sort(my.data.frame$new) "
   ]
  },
  {
   "cell_type": "code",
   "execution_count": 73,
   "id": "southwest-football",
   "metadata": {},
   "outputs": [
    {
     "data": {
      "text/html": [
       "<style>\n",
       ".list-inline {list-style: none; margin:0; padding: 0}\n",
       ".list-inline>li {display: inline-block}\n",
       ".list-inline>li:not(:last-child)::after {content: \"\\00b7\"; padding: 0 .5ex}\n",
       "</style>\n",
       "<ol class=list-inline><li>40</li><li>20</li><li>11</li><li>10</li></ol>\n"
      ],
      "text/latex": [
       "\\begin{enumerate*}\n",
       "\\item 40\n",
       "\\item 20\n",
       "\\item 11\n",
       "\\item 10\n",
       "\\end{enumerate*}\n"
      ],
      "text/markdown": [
       "1. 40\n",
       "2. 20\n",
       "3. 11\n",
       "4. 10\n",
       "\n",
       "\n"
      ],
      "text/plain": [
       "[1] 40 20 11 10"
      ]
     },
     "metadata": {},
     "output_type": "display_data"
    }
   ],
   "source": [
    "# rev(object.name) sorts from big to small\n",
    "  \n",
    "rev(sort(my.data.frame$new)) "
   ]
  },
  {
   "cell_type": "code",
   "execution_count": 74,
   "id": "talented-dispatch",
   "metadata": {},
   "outputs": [
    {
     "data": {
      "text/html": [
       "<table class=\"dataframe\">\n",
       "<caption>A data.frame: 1 × 4</caption>\n",
       "<thead>\n",
       "\t<tr><th></th><th scope=col>vector</th><th scope=col>character</th><th scope=col>const.vector</th><th scope=col>new</th></tr>\n",
       "\t<tr><th></th><th scope=col>&lt;int&gt;</th><th scope=col>&lt;chr&gt;</th><th scope=col>&lt;dbl&gt;</th><th scope=col>&lt;dbl&gt;</th></tr>\n",
       "</thead>\n",
       "<tbody>\n",
       "\t<tr><th scope=row>data3</th><td>3</td><td>c</td><td>10</td><td>20</td></tr>\n",
       "</tbody>\n",
       "</table>\n"
      ],
      "text/latex": [
       "A data.frame: 1 × 4\n",
       "\\begin{tabular}{r|llll}\n",
       "  & vector & character & const.vector & new\\\\\n",
       "  & <int> & <chr> & <dbl> & <dbl>\\\\\n",
       "\\hline\n",
       "\tdata3 & 3 & c & 10 & 20\\\\\n",
       "\\end{tabular}\n"
      ],
      "text/markdown": [
       "\n",
       "A data.frame: 1 × 4\n",
       "\n",
       "| <!--/--> | vector &lt;int&gt; | character &lt;chr&gt; | const.vector &lt;dbl&gt; | new &lt;dbl&gt; |\n",
       "|---|---|---|---|---|\n",
       "| data3 | 3 | c | 10 | 20 |\n",
       "\n"
      ],
      "text/plain": [
       "      vector character const.vector new\n",
       "data3 3      c         10           20 "
      ]
     },
     "metadata": {},
     "output_type": "display_data"
    }
   ],
   "source": [
    "# subset(object.name, ...) returns a selection of an R-object with respect to \n",
    "# criteria (typically comparisons: x$V1 < 10). \n",
    "  \n",
    "subset(my.data.frame, my.data.frame$new == 20)"
   ]
  },
  {
   "cell_type": "code",
   "execution_count": 79,
   "id": "narrative-collective",
   "metadata": {},
   "outputs": [
    {
     "data": {
      "text/html": [
       "<table class=\"dataframe\">\n",
       "<caption>A data.frame: 4 × 3</caption>\n",
       "<thead>\n",
       "\t<tr><th></th><th scope=col>character</th><th scope=col>const.vector</th><th scope=col>new</th></tr>\n",
       "\t<tr><th></th><th scope=col>&lt;chr&gt;</th><th scope=col>&lt;dbl&gt;</th><th scope=col>&lt;dbl&gt;</th></tr>\n",
       "</thead>\n",
       "<tbody>\n",
       "\t<tr><th scope=row>data1</th><td>a</td><td>10</td><td>10</td></tr>\n",
       "\t<tr><th scope=row>data2</th><td>b</td><td>10</td><td>11</td></tr>\n",
       "\t<tr><th scope=row>data3</th><td>c</td><td>10</td><td>20</td></tr>\n",
       "\t<tr><th scope=row>data4</th><td>d</td><td>10</td><td>40</td></tr>\n",
       "</tbody>\n",
       "</table>\n"
      ],
      "text/latex": [
       "A data.frame: 4 × 3\n",
       "\\begin{tabular}{r|lll}\n",
       "  & character & const.vector & new\\\\\n",
       "  & <chr> & <dbl> & <dbl>\\\\\n",
       "\\hline\n",
       "\tdata1 & a & 10 & 10\\\\\n",
       "\tdata2 & b & 10 & 11\\\\\n",
       "\tdata3 & c & 10 & 20\\\\\n",
       "\tdata4 & d & 10 & 40\\\\\n",
       "\\end{tabular}\n"
      ],
      "text/markdown": [
       "\n",
       "A data.frame: 4 × 3\n",
       "\n",
       "| <!--/--> | character &lt;chr&gt; | const.vector &lt;dbl&gt; | new &lt;dbl&gt; |\n",
       "|---|---|---|---|\n",
       "| data1 | a | 10 | 10 |\n",
       "| data2 | b | 10 | 11 |\n",
       "| data3 | c | 10 | 20 |\n",
       "| data4 | d | 10 | 40 |\n",
       "\n"
      ],
      "text/plain": [
       "      character const.vector new\n",
       "data1 a         10           10 \n",
       "data2 b         10           11 \n",
       "data3 c         10           20 \n",
       "data4 d         10           40 "
      ]
     },
     "metadata": {},
     "output_type": "display_data"
    }
   ],
   "source": [
    "# If the R-object is a data frame,\n",
    "# the option select gives the variables to be kept or dropped using a minus \n",
    "# sign\n",
    "\n",
    "my.data.frame[-1]"
   ]
  },
  {
   "cell_type": "markdown",
   "id": "cross-timber",
   "metadata": {},
   "source": [
    "## Reading tables\n",
    "\n",
    "read.table(\"filename\")** Reads a file in table format and creates a data \n",
    "frame from it, with cases corresponding to lines and variables to fields \n",
    "within the file. The default separator  sep=\"\"  is any whitespace. \n",
    "You might need  sep=\",\"  or  \";\"  and so on. \n",
    "Use  header=TRUE  to read the first line as a header of column names. \n",
    "The **as.is=TRUE** specification is used to prevent character vectors from\n",
    "being converted to factors. \n",
    "\n",
    "The comment.char=\"\" specification is used to prevent \"#\" from being \n",
    "interpreted as a comment and use \"skip=n\" to skip n lines before reading \n",
    "data. For more details:\n",
    "?read.table\n",
    "\n",
    "read.csv(\"filename\")  is set to read comma separated files. Example usage is:\n",
    "read.csv(file.name, header = TRUE, sep = \",\", quote=\"\\\"\", dec=\".\", \n",
    "fill =TRUE,  comment.char=\"\", ...)\n",
    "\n",
    "read.delim(\"filename\") is used for reading tab-delimited files\n",
    "\n",
    "read.fwf() reads a table of fixed width formatted data into a ’data.frame’.\n",
    "Widths is an integer vector, giving the widths of the fixed-width fields"
   ]
  },
  {
   "cell_type": "code",
   "execution_count": 82,
   "id": "planned-reducing",
   "metadata": {},
   "outputs": [],
   "source": [
    "df <- read.csv(\"./geodata/shp/point_stat.csv\")"
   ]
  },
  {
   "cell_type": "code",
   "execution_count": 83,
   "id": "geological-jumping",
   "metadata": {},
   "outputs": [
    {
     "data": {
      "text/html": [
       "<table class=\"dataframe\">\n",
       "<caption>A data.frame: 6 × 4</caption>\n",
       "<thead>\n",
       "\t<tr><th></th><th scope=col>FID</th><th scope=col>mean</th><th scope=col>stdev</th><th scope=col>min</th></tr>\n",
       "\t<tr><th></th><th scope=col>&lt;int&gt;</th><th scope=col>&lt;dbl&gt;</th><th scope=col>&lt;dbl&gt;</th><th scope=col>&lt;dbl&gt;</th></tr>\n",
       "</thead>\n",
       "<tbody>\n",
       "\t<tr><th scope=row>1</th><td>0</td><td>2.550725</td><td>0.25891342</td><td>2.396264</td></tr>\n",
       "\t<tr><th scope=row>2</th><td>1</td><td>2.550725</td><td>0.25891342</td><td>2.396264</td></tr>\n",
       "\t<tr><th scope=row>3</th><td>2</td><td>2.550725</td><td>0.25891342</td><td>2.396264</td></tr>\n",
       "\t<tr><th scope=row>4</th><td>3</td><td>2.383711</td><td>0.12381761</td><td>2.050272</td></tr>\n",
       "\t<tr><th scope=row>5</th><td>4</td><td>2.383137</td><td>0.09662122</td><td>2.133288</td></tr>\n",
       "\t<tr><th scope=row>6</th><td>5</td><td>2.383137</td><td>0.09662122</td><td>2.133288</td></tr>\n",
       "</tbody>\n",
       "</table>\n"
      ],
      "text/latex": [
       "A data.frame: 6 × 4\n",
       "\\begin{tabular}{r|llll}\n",
       "  & FID & mean & stdev & min\\\\\n",
       "  & <int> & <dbl> & <dbl> & <dbl>\\\\\n",
       "\\hline\n",
       "\t1 & 0 & 2.550725 & 0.25891342 & 2.396264\\\\\n",
       "\t2 & 1 & 2.550725 & 0.25891342 & 2.396264\\\\\n",
       "\t3 & 2 & 2.550725 & 0.25891342 & 2.396264\\\\\n",
       "\t4 & 3 & 2.383711 & 0.12381761 & 2.050272\\\\\n",
       "\t5 & 4 & 2.383137 & 0.09662122 & 2.133288\\\\\n",
       "\t6 & 5 & 2.383137 & 0.09662122 & 2.133288\\\\\n",
       "\\end{tabular}\n"
      ],
      "text/markdown": [
       "\n",
       "A data.frame: 6 × 4\n",
       "\n",
       "| <!--/--> | FID &lt;int&gt; | mean &lt;dbl&gt; | stdev &lt;dbl&gt; | min &lt;dbl&gt; |\n",
       "|---|---|---|---|---|\n",
       "| 1 | 0 | 2.550725 | 0.25891342 | 2.396264 |\n",
       "| 2 | 1 | 2.550725 | 0.25891342 | 2.396264 |\n",
       "| 3 | 2 | 2.550725 | 0.25891342 | 2.396264 |\n",
       "| 4 | 3 | 2.383711 | 0.12381761 | 2.050272 |\n",
       "| 5 | 4 | 2.383137 | 0.09662122 | 2.133288 |\n",
       "| 6 | 5 | 2.383137 | 0.09662122 | 2.133288 |\n",
       "\n"
      ],
      "text/plain": [
       "  FID mean     stdev      min     \n",
       "1 0   2.550725 0.25891342 2.396264\n",
       "2 1   2.550725 0.25891342 2.396264\n",
       "3 2   2.550725 0.25891342 2.396264\n",
       "4 3   2.383711 0.12381761 2.050272\n",
       "5 4   2.383137 0.09662122 2.133288\n",
       "6 5   2.383137 0.09662122 2.133288"
      ]
     },
     "metadata": {},
     "output_type": "display_data"
    }
   ],
   "source": [
    "head(df)"
   ]
  },
  {
   "cell_type": "code",
   "execution_count": 108,
   "id": "western-hands",
   "metadata": {},
   "outputs": [
    {
     "data": {
      "text/html": [
       "<table class=\"dataframe\">\n",
       "<caption>A data.frame: 2 × 4</caption>\n",
       "<thead>\n",
       "\t<tr><th></th><th scope=col>FID</th><th scope=col>mean</th><th scope=col>stdev</th><th scope=col>min</th></tr>\n",
       "\t<tr><th></th><th scope=col>&lt;int&gt;</th><th scope=col>&lt;dbl&gt;</th><th scope=col>&lt;dbl&gt;</th><th scope=col>&lt;dbl&gt;</th></tr>\n",
       "</thead>\n",
       "<tbody>\n",
       "\t<tr><th scope=row>106</th><td>105</td><td>7.536515</td><td>0.1895011</td><td>7.16515</td></tr>\n",
       "\t<tr><th scope=row>107</th><td>106</td><td>7.536515</td><td>0.1895011</td><td>7.16515</td></tr>\n",
       "</tbody>\n",
       "</table>\n"
      ],
      "text/latex": [
       "A data.frame: 2 × 4\n",
       "\\begin{tabular}{r|llll}\n",
       "  & FID & mean & stdev & min\\\\\n",
       "  & <int> & <dbl> & <dbl> & <dbl>\\\\\n",
       "\\hline\n",
       "\t106 & 105 & 7.536515 & 0.1895011 & 7.16515\\\\\n",
       "\t107 & 106 & 7.536515 & 0.1895011 & 7.16515\\\\\n",
       "\\end{tabular}\n"
      ],
      "text/markdown": [
       "\n",
       "A data.frame: 2 × 4\n",
       "\n",
       "| <!--/--> | FID &lt;int&gt; | mean &lt;dbl&gt; | stdev &lt;dbl&gt; | min &lt;dbl&gt; |\n",
       "|---|---|---|---|---|\n",
       "| 106 | 105 | 7.536515 | 0.1895011 | 7.16515 |\n",
       "| 107 | 106 | 7.536515 | 0.1895011 | 7.16515 |\n",
       "\n"
      ],
      "text/plain": [
       "    FID mean     stdev     min    \n",
       "106 105 7.536515 0.1895011 7.16515\n",
       "107 106 7.536515 0.1895011 7.16515"
      ]
     },
     "metadata": {},
     "output_type": "display_data"
    }
   ],
   "source": [
    "df[which(df$mean>7),]"
   ]
  },
  {
   "cell_type": "markdown",
   "id": "finished-chancellor",
   "metadata": {},
   "source": [
    "### Exercise \n",
    "\n",
    "Print the data rows with the column min value less than 1. Do NOT use the \"which\" function in R. "
   ]
  },
  {
   "cell_type": "markdown",
   "id": "immune-trading",
   "metadata": {},
   "source": [
    "## Functions\n",
    "\n",
    "Functions are themselves objects in R which can be stored in the project's \n",
    "workspace. This provides a simple and convenient way to extend R.  \n",
    "\n",
    "Usage: in writing your own function you provide one or more arguments or \n",
    "names for the function, an expression and a value \n",
    "is produced equal to the output function result.\n",
    "\n",
    "function(arglist) expr   function definition  \n",
    "return(value) "
   ]
  },
  {
   "cell_type": "code",
   "execution_count": 112,
   "id": "preliminary-power",
   "metadata": {},
   "outputs": [
    {
     "data": {
      "text/html": [
       "243"
      ],
      "text/latex": [
       "243"
      ],
      "text/markdown": [
       "243"
      ],
      "text/plain": [
       "[1] 243"
      ]
     },
     "metadata": {},
     "output_type": "display_data"
    }
   ],
   "source": [
    "# Example\n",
    "\n",
    "myfunction <- function(x) x^5\n",
    "myfunction(3)"
   ]
  },
  {
   "cell_type": "code",
   "execution_count": 115,
   "id": "exceptional-virginia",
   "metadata": {},
   "outputs": [],
   "source": [
    "# oddcount function \n",
    "\n",
    "oddcount <- function(x){\n",
    "    k <- 0 \n",
    "    for (i in x) {\n",
    "        if (i %% 2 == 1) k <- k + 1\n",
    "    }\n",
    "    return (k)\n",
    "}"
   ]
  },
  {
   "cell_type": "code",
   "execution_count": 116,
   "id": "better-people",
   "metadata": {},
   "outputs": [
    {
     "data": {
      "text/html": [
       "4"
      ],
      "text/latex": [
       "4"
      ],
      "text/markdown": [
       "4"
      ],
      "text/plain": [
       "[1] 4"
      ]
     },
     "metadata": {},
     "output_type": "display_data"
    }
   ],
   "source": [
    "oddcount(c(1,3,5,7))"
   ]
  },
  {
   "cell_type": "code",
   "execution_count": 117,
   "id": "southeast-freight",
   "metadata": {},
   "outputs": [
    {
     "data": {
      "text/html": [
       "3"
      ],
      "text/latex": [
       "3"
      ],
      "text/markdown": [
       "3"
      ],
      "text/plain": [
       "[1] 3"
      ]
     },
     "metadata": {},
     "output_type": "display_data"
    }
   ],
   "source": [
    "oddcount(c(1,3,5,8))"
   ]
  }
 ],
 "metadata": {
  "kernelspec": {
   "display_name": "R",
   "language": "R",
   "name": "ir"
  },
  "language_info": {
   "codemirror_mode": "r",
   "file_extension": ".r",
   "mimetype": "text/x-r-source",
   "name": "R",
   "pygments_lexer": "r",
   "version": "4.0.4"
  }
 },
 "nbformat": 4,
 "nbformat_minor": 5
}
