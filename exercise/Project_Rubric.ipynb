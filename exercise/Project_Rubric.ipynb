{
 "cells": [
  {
   "cell_type": "markdown",
   "id": "detailed-awareness",
   "metadata": {},
   "source": [
    "# Rubric for Final Project\n",
    "\n",
    "-----------------------\n",
    "\n",
    "BIO401-01/598-02 \n",
    " \n",
    "Apr. 7 2021\n"
   ]
  },
  {
   "cell_type": "markdown",
   "id": "southeast-prayer",
   "metadata": {},
   "source": [
    "## Overarching Goals \n",
    "\n",
    "1. level of understanding of spatial modelling  \n",
    "2. independent ability of organising, developing and completing a project \n",
    "3. skills at delivering and defending your final project\n",
    "\n",
    "## Project format \n",
    "1. written report : jupyer-notebook and its pdf\n",
    "2. oral defense (20 min) : 15 min ppt presentation + 5 min Q&A\n",
    "\n",
    "## Content : report and oral defense \n",
    "1. project background \n",
    "2. data aquisition \n",
    "3. data exploration \n",
    "4. model construction \n",
    "5. model evalution \n",
    "6. model delivery (final map)\n",
    "7. extra : self defined\n",
    "\n",
    "## Grading \n",
    "\n",
    "### Reports : 60% (excluding bonus)\n",
    "1. project description : 10% \n",
    "2. data description, including sources, retrieval, examination, transformations : 20%\n",
    "3. data exploartion, techniques wherever applicable : 20%\n",
    "4. model construction, understanding of model assumptions, limitations and justification of your choice : 20% \n",
    "5. model evalution, logical reasoning and statistical analysis : 20% \n",
    "6. final map, presentability : 10% \n",
    "7. bonus points, demonstrating exceptional coding/modelling skills : 10%\n",
    "\n",
    "graded by Giuseppe and Longzhu \n",
    "\n",
    "### Oral defense : 40%\n",
    "1. good organisation of the presentation : 10%\n",
    "2. logic transitions : 10%\n",
    "3. use of visual aids : 10%\n",
    "4. aesthetics : maps, graphs, color contrast, etc. : 10%\n",
    "5. description of data aquistion steps : 10%\n",
    "6. description of data manipulations : 10%\n",
    "7. clear narration of the modelling procedure : 10% \n",
    "8. plausible argument for the choice of model : 10%\n",
    "9. description of model evalution : 10%\n",
    "10. defending questions : 10%\n",
    "\n",
    "graded by instructors and peers \n"
   ]
  }
 ],
 "metadata": {
  "kernelspec": {
   "display_name": "Python 3",
   "language": "python",
   "name": "python3"
  },
  "language_info": {
   "codemirror_mode": {
    "name": "ipython",
    "version": 3
   },
   "file_extension": ".py",
   "mimetype": "text/x-python",
   "name": "python",
   "nbconvert_exporter": "python",
   "pygments_lexer": "ipython3",
   "version": "3.8.8"
  }
 },
 "nbformat": 4,
 "nbformat_minor": 5
}
