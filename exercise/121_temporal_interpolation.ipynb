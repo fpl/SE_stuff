{
 "cells": [
  {
   "cell_type": "markdown",
   "metadata": {},
   "source": [
    "# Temporal interpolation of landsat images\n",
    "\n",
    "The Landsat Analysis Ready Data (GLAD ARD) developed by the Global Land Analysis and Discovery (GLAD) provides spatially and temporally consistent inputs for land cover mapping and change detection. The GLAD ARD represent a 16-day time-series of tiled Landsat normalized surface reflectance from 1997 to present (source \n",
    "https://glad.umd.edu/book/overview). \n",
    "\n",
    "The GLAD ARD data can be download from the https://glad.umd.edu/dataset/landsat_v1.1/ previous autentifcation.\n",
    "For this exercise we are going to use a portion of TILE 015E_38N, which is located in the south of Italy (Sicily), for the year 2018, 2019, 2020. \n",
    "\n",
    "The temporal series for each tile is labeled following this numerical nomenclature. "
   ]
  },
  {
   "cell_type": "code",
   "execution_count": 9,
   "metadata": {},
   "outputs": [
    {
     "name": "stdout",
     "output_type": "stream",
     "text": [
      "2017 852 853 854 855 856 857 858 859 860 861 862 863 864 865 866 867 868 869 870 871 872 873 874         \n",
      "2018 875 876 877 878 879 880 881 882 883 884 885 886 887 888 889 890 891 892 893 894 895 896 897         \n",
      "2019 898 899 900 901 902 903 904 905 906 907 908 909 910 911 912 913 914 915 916 917 918 919 920         \n",
      "2020 921 922 923 924 925 926 927 928 929 930 931 932 933 934 935 936 937 938 939 940 941 942 943         \n",
      "2021 944 945 946 947 948 949 950 951 952 953 954 955 956 957 958 959 960 961 962 963 964 965 966         \n",
      "2022 967 968 969 970 971 972 973 974 975 976 977 978 979 980 981 982 983 984 985 986 987 988 989         \n"
     ]
    }
   ],
   "source": [
    "! head -43  geodata/glad_ard/16d_intervals.csv  | tail -6"
   ]
  },
  {
   "cell_type": "markdown",
   "metadata": {},
   "source": [
    "Where the first column identify the year, and the others the 16-day time-series.\n",
    "\n",
    "## Data download \n",
    "\n",
    "Per convenience the images have been downloaded and cropped already with the following lines.\n",
    "\n",
    "    for INTER in $(grep -e ^2018 -e ^2019 -e ^2020 geodata/glad_ard//16d_intervals.csv | awk '{ $1=\"\"; print $0}') ; do                                                                                               \n",
    "    curl --connect-timeout 600 -u user:password -X GET https://glad.umd.edu/dataset/landsat_v1.1/38N/015E_38N/$INTER.tif -o geodata/glad_ard/$INTER.tif\n",
    "    gdal_translate -co COMPRESS=DEFLATE -co ZLEVEL=9  -projwin 15.24 38.11 15.34 38 geodata/glad_ard/$INTER.tif geodata/glad_ard/${INTER}_crop.tif      \n",
    "    done\n",
    "\n",
    "## Image characteristics\n",
    "\n",
    "The images have the following characteristic:"
   ]
  },
  {
   "cell_type": "code",
   "execution_count": 10,
   "metadata": {},
   "outputs": [
    {
     "name": "stdout",
     "output_type": "stream",
     "text": [
      "Driver: GTiff/GeoTIFF\n",
      "Files: geodata/glad_ard/922_crop.tif\n",
      "Size is 400, 440\n",
      "Coordinate System is:\n",
      "GEOGCRS[\"WGS 84\",\n",
      "    DATUM[\"World Geodetic System 1984\",\n",
      "        ELLIPSOID[\"WGS 84\",6378137,298.257223563,\n",
      "            LENGTHUNIT[\"metre\",1]]],\n",
      "    PRIMEM[\"Greenwich\",0,\n",
      "        ANGLEUNIT[\"degree\",0.0174532925199433]],\n",
      "    CS[ellipsoidal,2],\n",
      "        AXIS[\"geodetic latitude (Lat)\",north,\n",
      "            ORDER[1],\n",
      "            ANGLEUNIT[\"degree\",0.0174532925199433]],\n",
      "        AXIS[\"geodetic longitude (Lon)\",east,\n",
      "            ORDER[2],\n",
      "            ANGLEUNIT[\"degree\",0.0174532925199433]],\n",
      "    ID[\"EPSG\",4326]]\n",
      "Data axis to CRS axis mapping: 2,1\n",
      "Origin = (15.240000000000000,38.109999999999999)\n",
      "Pixel Size = (0.000250000000000,-0.000250000000000)\n",
      "Metadata:\n",
      "  AREA_OR_POINT=Area\n",
      "Image Structure Metadata:\n",
      "  COMPRESSION=DEFLATE\n",
      "  INTERLEAVE=PIXEL\n",
      "Corner Coordinates:\n",
      "Upper Left  (  15.2400000,  38.1100000) ( 15d14'24.00\"E, 38d 6'36.00\"N)\n",
      "Lower Left  (  15.2400000,  38.0000000) ( 15d14'24.00\"E, 38d 0' 0.00\"N)\n",
      "Upper Right (  15.3400000,  38.1100000) ( 15d20'24.00\"E, 38d 6'36.00\"N)\n",
      "Lower Right (  15.3400000,  38.0000000) ( 15d20'24.00\"E, 38d 0' 0.00\"N)\n",
      "Center      (  15.2900000,  38.0550000) ( 15d17'24.00\"E, 38d 3'18.00\"N)\n",
      "Band 1 Block=400x1 Type=UInt16, ColorInterp=Gray\n",
      "    Computed Min/Max=1.000,10685.000\n",
      "Band 2 Block=400x1 Type=UInt16, ColorInterp=Undefined\n",
      "    Computed Min/Max=707.000,11421.000\n",
      "Band 3 Block=400x1 Type=UInt16, ColorInterp=Undefined\n",
      "    Computed Min/Max=597.000,12197.000\n",
      "Band 4 Block=400x1 Type=UInt16, ColorInterp=Undefined\n",
      "    Computed Min/Max=1448.000,22767.000\n",
      "Band 5 Block=400x1 Type=UInt16, ColorInterp=Undefined\n",
      "    Computed Min/Max=2175.000,17715.000\n",
      "Band 6 Block=400x1 Type=UInt16, ColorInterp=Undefined\n",
      "    Computed Min/Max=1665.000,13789.000\n",
      "Band 7 Block=400x1 Type=UInt16, ColorInterp=Undefined\n",
      "    Computed Min/Max=26477.000,30289.000\n",
      "Band 8 Block=400x1 Type=UInt16, ColorInterp=Undefined\n",
      "    Computed Min/Max=1.000,14.000\n"
     ]
    }
   ],
   "source": [
    "! gdalinfo -mm   geodata/glad_ard/922_crop.tif"
   ]
  },
  {
   "cell_type": "markdown",
   "metadata": {},
   "source": [
    "**Bands features**\n",
    "\n",
    "- 1 Normalized surface reflectance of blue band\n",
    "- 2 Normalized surface reflectance of green band\n",
    "- 3 Normalized surface reflectance of red band\n",
    "- 4 Normalized surface reflectance of NIR band\n",
    "- 5 Normalized surface reflectance of SWIR1 band\n",
    "- 6 Normalized surface reflectance of SWIR2 band                                              \n",
    "- 7 Normalized brightness temperature\n",
    "- 8 Observation quality code (QA)\n",
    "\n",
    "\n",
    "**The band 8 include a Quality Assessment (QA) code**\n",
    "\n",
    "|QA code |Description |Quality | \n",
    "|:-----|:---------|:------|\n",
    "|0      |Nodata                                                         |stripes and out of the image|\n",
    "|1      |Land                                                           |clear-sky|\n",
    "|2      |Water                                                          |clear-sky|\n",
    "|3      |Cloud                                                          |cloud contaminated|\n",
    "|4      |Cloud shadow                                                   |shadow contaminated|\n",
    "|5      |Hillshade                                                      |clear-sky|\n",
    "|6      |Snow                                                           |clear-sky|\n",
    "|7      |Haze                                                           |cloud contaminated|\n",
    "|8      |Cloud buffer                                                   |cloud contaminated|\n",
    "|9      |Shadow buffer                                                  |shadow contaminated|\n",
    "|10     |Shadow high likelihood                                         |shadow contaminated|\n",
    "|11     |Additional cloud buffer over land                              |clear-sky|\n",
    "|12     |Additional cloud buffer over water                             |lear-sky|\n",
    "|14     |Additional shadow buffer over land                             |lear-sky|\n",
    "|15     |Land, water detected but not used                              |lear-sky|\n",
    "|16     |Additional cloud buffer over land, water detected but not used |lear-sky|\n",
    "|17     |Additional shadow buffer over land, water detected but not used|lear-sky|\n",
    "\n",
    "\n"
   ]
  },
  {
   "cell_type": "markdown",
   "metadata": {},
   "source": [
    "## Temporal composite\n",
    "For each of the 16-day time-series we composite the 3 images (from the year 2018,2019,2020) taking median among them. The composite has been done by retaining from band 8 (-bndnodata 7) only pixels that belong to land (QA=1) or water (QA=2)"
   ]
  },
  {
   "cell_type": "code",
   "execution_count": 11,
   "metadata": {},
   "outputs": [
    {
     "name": "stdout",
     "output_type": "stream",
     "text": [
      "00...10....20....30....1040....50.....6020......7030.....80..40...90....100 - done.\n",
      "Input file size is 400, 440\n",
      "0...10...20...30...40...50....60...70...80...90...100 - done.\n",
      "0.50..10......20.60...30....70..40...80....50.90......100 - done.\n",
      "Input file size is 400, 440\n",
      "0...10...20...30...40...5060...60...70...80...90...100 - done.\n",
      "0....10....20....70.30.....8040.....50...90..60...100 - done.\n",
      ".Input file size is 400, 440\n",
      "0...10...20...30...40...50...60...70...80...90...100 - done.\n",
      ".0.70...10.....2080.....30....4090...50......60100 - done.\n",
      ".Input file size is 400, 440\n",
      "0...10...20...30...40...50...60...70...80...90...100 - done.\n",
      ".0...10....2070....30.....8040......50.90.....60100 - done.\n",
      ".Input file size is 400, 440\n",
      "0....10...20...30...40...50....60...70...80...90...100 - done.\n",
      "700....10.....20..80.30......4090.....50....60100 - done.\n",
      ".Input file size is 400, 440\n",
      "0....10...20...30...40...50....60...70...80...90...100 - done.\n",
      "70...080....10.....9020......30...100 - done.\n",
      "40...50..Input file size is 400, 440\n",
      "0....10...20...30...40...5060......60...70...80...90...100 - done.\n",
      "70...800......9010......100 - done.\n",
      "20Input file size is 400, 440\n",
      "0.....10...20...30...40...50.30....60...70...80...90...100 - done.\n",
      "..400.....10...50..20...60....30..70....40...80..50.....9060......70...100 - done.\n",
      "80...90.Input file size is 400, 440\n",
      "0.....10...20...30...40...50...60...70...80...90...100 - done.\n",
      "100 - done.\n",
      "0.Input file size is 400, 440\n",
      "0.....10...20...30...40...5010.....60...70...80...90...100 - done.\n",
      ".20...300......4010......2050......3060......4070......5080.....60..90....70....80.100 - done.\n",
      "..90.Input file size is 400, 440\n",
      "0.....10...20...30...40...50...60...70...80...90...100 - done.\n",
      "100 - done.\n",
      "0.Input file size is 400, 440\n",
      "0..10...10...20...30...40...50...20....60...70...80...90...100 - done.\n",
      "..30..0...40..10.....5020......3060......40.70....50..80....60...90..70.....80..100 - done.\n",
      ".90...Input file size is 400, 440\n",
      "0...10...20...30...40...50100 - done.\n",
      "...60...70...80...90...100 - done.\n",
      "Input file size is 400, 440\n",
      "0...10...20...30...40...500.....60...70...80...90...100 - done.\n",
      ".10...0.20...10....20...30.30.....40...40..50...50....60..60...70....70...80..80....90...90....100 - done.\n",
      "100 - done.\n",
      "Input file size is 400, 440\n",
      "0Input file size is 400, 440\n",
      "0...10...20...30...40...50...10...20...30...40...50...60...70...80...90...100 - done.\n",
      "...60...70...80...90...100 - done.\n",
      "00.....10...10..20.....30.20...40.....5030....60.....70...4080...90....100 - done.\n",
      "Input file size is 400, 440\n",
      "0...10...20...30...40...50....60...70...80...90...100 - done.\n",
      "0....1050....20....60..30.....70.40....80...50.90......60100 - done.\n",
      "Input file size is 400, 440\n",
      "0...10...20...30...40...50...60...70...80...90...100 - done.\n",
      ".0...10....20....30...40...50..70.60...70....80...90....100 - done.\n",
      ".Input file size is 400, 440\n",
      "0...10...20...30...40...50...60...70...80...90...100 - done.\n",
      "800......9010......20.100 - done.\n",
      "Input file size is 400, 440\n",
      "0...10...20...30...40...50...60...70...80...90...100 - done.\n",
      "0.....10...30.20....40..30....50..40...60...50.....7060......8070.....90..80...100 - done.\n",
      "Input file size is 400, 440\n",
      "0...10...20...30...40...50...60...70...80...90...100 - done.\n",
      ".0..90.....100 - done.\n",
      "Input file size is 400, 440\n",
      "0...10...20...30...40...50...60...70...80...90...100 - done.\n",
      "10...20...30...40...50...60...70...80...90...100 - done.\n",
      "Input file size is 400, 440\n",
      "0...10...20...30...40...50...60...70...80...90...100 - done.\n"
     ]
    }
   ],
   "source": [
    "%%bash\n",
    "\n",
    "echo 01 02 03 04 05 06 07 08 09 $( seq 10 23 )   | xargs -n 1 -P 2  bash -c $'\n",
    "day=$1\n",
    "\n",
    "## median composite \n",
    "pkcomposite $( grep -e ^2019 -e ^2020 -e ^2018 geodata/glad_ard/16d_intervals.csv | awk -v day=$day \\\n",
    "\\'{ print $(day+1)  }\\' |  xargs  -I {}  -n 1 ls geodata/glad_ard/{}_crop.tif | xargs  -I {}  -n 1 echo -i  {}  ) \\\n",
    "-ot UInt16 -co COMPRESS=LZW -co ZLEVEL=9  -cr median -dstnodata 0  -bndnodata 7 \\\n",
    "-srcnodata 0  -srcnodata 3  -srcnodata 4 -srcnodata 5 -srcnodata 6 -srcnodata 7 -srcnodata 8 -srcnodata 9 \\\n",
    "-srcnodata 10 -srcnodata 11 -srcnodata 12 -srcnodata 13 -srcnodata 14 -srcnodata 15  -srcnodata 16 -srcnodata 17 \\\n",
    "-o geodata/glad_ard/median_$day.tif\n",
    "\n",
    "##### select only 6 bands\n",
    "gdal_translate  -co COMPRESS=LZW -co ZLEVEL=9 -b 1 -b 2 -b 3 -b 4 -b 5 -b 6 -a_nodata 0 \\\n",
    "geodata/glad_ard/median_$day.tif  geodata/glad_ard/median_${day}_6bs.tif\n",
    "rm geodata/glad_ard/median_$day.tif\n",
    "' _"
   ]
  },
  {
   "cell_type": "markdown",
   "metadata": {},
   "source": [
    "After the temporal composite some images present areas with no data.\n",
    "<img src='../images/glad_ard_median_02_6bs.png' width=\"800\">\n",
    "![title](../images/glad_ard_median_02_6bs.png)\n",
    "![title](../images/glad_ard_median_12_6bs.png)"
   ]
  },
  {
   "cell_type": "markdown",
   "metadata": {},
   "source": [
    "## Temporal interpolation\n",
    "\n",
    "We re-fill (gap-filling) all the area labeled as NoData=0 (black area in the above immages) using temporal interpolation by means of Akima and Stefen algorithm."
   ]
  },
  {
   "cell_type": "code",
   "execution_count": 111,
   "metadata": {},
   "outputs": [
    {
     "name": "stdout",
     "output_type": "stream",
     "text": [
      "0...10...20...30...40...50...60...70...80...90...100 - done.\n",
      "0...10...20...30...40...50...60...70...80...90...100 - done.\n",
      "0...10...20...30...40...50...60...70...80...90...100 - done.\n",
      "0...10...20...30...40...50...60...70...80...90...100 - done.\n",
      "0...10...20...30...40...50...60...70...80...90...100 - done.\n",
      "0...10...20...30...40...50...60...70...80...90...100 - done.\n",
      "0...10...20...30...40...50...60...70...80...90...100 - done.\n",
      "0...10...20...30...40...50...60...70...80...90...100 - done.\n",
      "0...10...20...30...40...50...60...70...80...90...100 - done.\n",
      "0...10...20...30...40...50...60...70...80...90...100 - done.\n",
      "0...10...20...30...40...50...60...70...80...90...100 - done.\n",
      "0...10...20...30...40...50...60...70...80...90...100 - done.\n",
      "0...10...20...30...40...50...60...70...80...90...100 - done.\n",
      "0...10...20...30...40...50...60...70...80...90...100 - done.\n",
      "0...10...20...30...40...50...60...70...80...90...100 - done.\n",
      "0...10...20...30...40...50...60...70...80...90...100 - done.\n",
      "0...10...20...30...40...50...60...70...80...90...100 - done.\n",
      "0...10...20...30...40...50...60...70...80...90...100 - done.\n",
      "0...10...20...30...40...50...60...70...80...90...100 - done.\n",
      "0...10...20...30...40...50...60...70...80...90...100 - done.\n",
      "0...10...20...30...40...50...60...70...80...90...100 - done.\n",
      "0...10...20...30...40...50...60...70...80...90...100 - done.\n",
      "0...10...20...30...40...50...60...70...80...90...100 - done.\n",
      "0...10...20...30...40...50...60...70...80...90...100 - done.\n",
      "opening output image geodata/glad_ard/median_akima_1b_tmp.tif with 69 bands\n",
      "0...10...20...30...40...50...60...70...80...90...100 - done.\n",
      "Input file size is 400, 440\n",
      "0...10...20...30...40...50...60...70...80...90...100 - done.\n",
      "opening output image geodata/glad_ard/median_steffen_1b_tmp.tif with 69 bands\n",
      "0...10...20...30...40...50...60...70...80...90...100 - done.\n",
      "Input file size is 400, 440\n",
      "0...10...20...30...40...50...60...70...80...90...100 - done.\n"
     ]
    }
   ],
   "source": [
    "%%bash \n",
    "\n",
    "echo 1  | xargs -n 1 -P 1  bash -c $'\n",
    "B=$1\n",
    "\n",
    "## extract one band for all the 16-day time-series\n",
    "for day in 01 02 03 04 05 06 07 08 09 $( seq 10 23 ) ; do\n",
    "gdalbuildvrt -srcnodata 0 -vrtnodata 0 -overwrite -b $B geodata/glad_ard/median_${day}_${B}b.vrt \\\n",
    "geodata/glad_ard/median_${day}_6bs.tif\n",
    "done\n",
    "\n",
    "## build a 3 time 16-day time-series only with one band \n",
    "gdalbuildvrt -srcnodata 0 -vrtnodata 0 -separate  -overwrite geodata/glad_ard/median_tseries_${B}b.vrt \\\n",
    "geodata/glad_ard/median_??_${B}b.vrt geodata/glad_ard/median_??_${B}b.vrt geodata/glad_ard/median_??_${B}b.vrt \n",
    "\n",
    "## gap filling with the akima splaine\n",
    "pkfilter -of GTiff -co COMPRESS=LZW -co ZLEVEL=9 -nodata 0 -f smoothnodata -dz 1 -interp akima \\\n",
    "-i geodata/glad_ard/median_tseries_${B}b.vrt -o geodata/glad_ard/median_akima_${B}b_tmp.tif\n",
    "\n",
    "# 23 * 3 bands \n",
    "\n",
    "gdal_translate  -co COMPRESS=LZW -co ZLEVEL=9 $(for b in $(seq 24 46); do echo \"-b $b\" ; done) \\\n",
    "geodata/glad_ard/median_akima_${B}b_tmp.tif geodata/glad_ard/median_akima_${B}b.tif\n",
    "rm geodata/glad_ard/median_akima_${B}b_tmp.tif\n",
    "\n",
    "pkfilter -of GTiff -co COMPRESS=LZW -co ZLEVEL=9 -nodata 0 -f smoothnodata -dz 1 -interp steffen \\\n",
    "-i geodata/glad_ard/median_tseries_${B}b.vrt -o geodata/glad_ard/median_steffen_${B}b_tmp.tif\n",
    "\n",
    "gdal_translate  -co COMPRESS=LZW -co ZLEVEL=9 $(for b in $(seq 24 46); do echo \"-b $b\" ; done) \\\n",
    "geodata/glad_ard/median_steffen_${B}b_tmp.tif geodata/glad_ard/median_steffen_${B}b.tif\n",
    "rm geodata/glad_ard/median_steffen_${B}b_tmp.tif\n",
    "' _"
   ]
  },
  {
   "cell_type": "markdown",
   "metadata": {},
   "source": [
    "At this point all the immages have been re-fill. "
   ]
  },
  {
   "cell_type": "markdown",
   "metadata": {},
   "source": [
    "## Assessing the temporal interpolation\n",
    "\n",
    "We select one pixel in the images and we plot its values acros time. "
   ]
  },
  {
   "cell_type": "code",
   "execution_count": 26,
   "metadata": {},
   "outputs": [],
   "source": [
    "%%bash\n",
    "echo \"day tseries akima stefen\" > geodata/glad_ard/day_orig_akima_stefen.txt \n",
    "paste -d \" \" <(for day in  01 02 03 04 05 06 07 08 09 $(seq 10 23); do  expr $day \\* 16 - 8 ; done) \\\n",
    " <(gdallocationinfo -valonly -geoloc geodata/glad_ard/median_tseries_1b.vrt       15.2866 38.0539 | head -23 ) \\\n",
    " <(gdallocationinfo -valonly -geoloc geodata/glad_ard/median_akima_1b.tif         15.2866 38.0539)\\\n",
    " <(gdallocationinfo -valonly -geoloc geodata/glad_ard/median_akimaperiodic_1b.tif 15.2866 38.0539) \\\n",
    " >> geodata/glad_ard/day_orig_akima_stefen.txt "
   ]
  },
  {
   "cell_type": "markdown",
   "metadata": {},
   "source": [
    "We obtained a table with 4 Columns. The zero in the second column rapresent No-Data and is the one that we had interpolated. "
   ]
  },
  {
   "cell_type": "code",
   "execution_count": 27,
   "metadata": {
    "scrolled": true
   },
   "outputs": [
    {
     "name": "stdout",
     "output_type": "stream",
     "text": [
      "day tseries akima stefen\n",
      "8 0 1028 1056\n",
      "24 0 1176 1182\n",
      "40 1309 1309 1309\n",
      "56 0 1427 1416\n",
      "72 0 1538 1522\n",
      "88 1629 1629 1629\n",
      "104 1554 1554 1554\n",
      "120 1577 1577 1577\n",
      "136 1370 1370 1370\n",
      "152 1465 1465 1465\n",
      "168 1466 1466 1466\n",
      "184 1412 1412 1412\n",
      "200 1342 1342 1342\n",
      "216 1239 1239 1239\n",
      "232 1376 1376 1376\n",
      "248 1479 1479 1479\n",
      "264 0 1421 1351\n",
      "280 0 1277 1224\n",
      "296 0 1107 1096\n",
      "312 968 968 968\n",
      "328 0 843 885\n",
      "344 802 802 802\n",
      "360 0 894 929\n"
     ]
    }
   ],
   "source": [
    "! cat geodata/glad_ard/day_orig_akima_stefen.txt "
   ]
  },
  {
   "cell_type": "code",
   "execution_count": 6,
   "metadata": {},
   "outputs": [
    {
     "name": "stdout",
     "output_type": "stream",
     "text": [
      "> tseries = read.table(\"geodata/glad_ard/day_orig_akima_stefen.txt\", sep=\" \" , header=TRUE)\n",
      "> str(tseries)\n",
      "'data.frame':\t23 obs. of  4 variables:\n",
      " $ day    : int  8 24 40 56 72 88 104 120 136 152 ...\n",
      " $ tseries: int  0 0 1309 0 0 1629 1554 1577 1370 1465 ...\n",
      " $ akima  : int  1028 1176 1309 1427 1538 1629 1554 1577 1370 1465 ...\n",
      " $ stefen : int  1056 1182 1309 1416 1522 1629 1554 1577 1370 1465 ...\n",
      "> png(\"geodata/glad_ard/plot_interpolation.png\")\n",
      "> plot(tseries$day ,  tseries$tseries , pch=4 , cex = 2 , col=\"blue\" , xlab=(\"Day of the year\") , ylab=(\"Spectral digital number\") )\n",
      "> points(tseries$day , tseries$stefen  , col=\"red\" , pch=19 )\n",
      "> points(tseries$day , tseries$akima , pch=1 )\n",
      "> legend(x=1,y=500,c(\"Original\",\"Stefen interp\",\"Akima interp\"),cex=1.4,col=c(\"blue\",\"red\",\"black\"),pch=c(2,19,1))\n",
      "> dev.off()\n",
      "null device \n",
      "          1 \n",
      "> \n"
     ]
    }
   ],
   "source": [
    "%%bash \n",
    "R --vanilla -q\n",
    "tseries = read.table(\"geodata/glad_ard/day_orig_akima_stefen.txt\", sep=\" \" , header=TRUE)\n",
    "str(tseries)\n",
    "png(\"geodata/glad_ard/plot_interpolation1.png\")\n",
    "plot(tseries$day ,  tseries$tseries , pch=4 , cex = 2 , col=\"blue\" , xlab=(\"Day of the year\") , ylab=(\"Spectral digital number\") )\n",
    "points(tseries$day , tseries$stefen  , col=\"red\" , pch=19 )\n",
    "points(tseries$day , tseries$akima , pch=1 )\n",
    "legend(x=1,y=600,c(\"Original\",\"Stefen interp\",\"Akima interp\"),cex=1.4,col=c(\"blue\",\"red\",\"black\"),pch=c(2,19,1))\n",
    "dev.off()"
   ]
  },
  {
   "cell_type": "markdown",
   "metadata": {},
   "source": [
    "![Temporal interpolation results](geodata/glad_ard/plot_interpolation1.png)"
   ]
  },
  {
   "cell_type": "markdown",
   "metadata": {},
   "source": [
    "## Savitzky–Golay smoothing filter\n",
    "\n",
    "We can use the Savitzky–Golay filter to smooth out the spectral response. "
   ]
  },
  {
   "cell_type": "code",
   "execution_count": 74,
   "metadata": {},
   "outputs": [
    {
     "name": "stderr",
     "output_type": "stream",
     "text": [
      "terminate called after throwing an instance of 'std::__cxx11::basic_string<char, std::char_traits<char>, std::allocator<char> >'\n",
      "xargs: bash: terminated by signal 6\n"
     ]
    },
    {
     "ename": "CalledProcessError",
     "evalue": "Command 'b\"\\necho 1 | xargs -n 1 -P 1  bash -c $'\\nB=$1\\npkfilter -co COMPRESS=LZW -co ZLEVEL=9 -f savgolay -nl 3 -nr 3 -m 2 -pad replicate -i geodata/glad_ard/median_akima_${B}b.tif -o geodata/glad_ard/median_savgolay_${B}b.tif\\n' _\\n\"' returned non-zero exit status 125.",
     "output_type": "error",
     "traceback": [
      "\u001b[0;31m---------------------------------------------------------------------------\u001b[0m",
      "\u001b[0;31mCalledProcessError\u001b[0m                        Traceback (most recent call last)",
      "\u001b[0;32m<ipython-input-74-89ac16301847>\u001b[0m in \u001b[0;36m<module>\u001b[0;34m\u001b[0m\n\u001b[0;32m----> 1\u001b[0;31m \u001b[0mget_ipython\u001b[0m\u001b[0;34m(\u001b[0m\u001b[0;34m)\u001b[0m\u001b[0;34m.\u001b[0m\u001b[0mrun_cell_magic\u001b[0m\u001b[0;34m(\u001b[0m\u001b[0;34m'bash'\u001b[0m\u001b[0;34m,\u001b[0m \u001b[0;34m''\u001b[0m\u001b[0;34m,\u001b[0m \u001b[0;34m\"\\necho 1 | xargs -n 1 -P 1  bash -c $'\\nB=$1\\npkfilter -co COMPRESS=LZW -co ZLEVEL=9 -f savgolay -nl 3 -nr 3 -m 2 -pad replicate -i geodata/glad_ard/median_akima_${B}b.tif -o geodata/glad_ard/median_savgolay_${B}b.tif\\n' _\\n\"\u001b[0m\u001b[0;34m)\u001b[0m\u001b[0;34m\u001b[0m\u001b[0;34m\u001b[0m\u001b[0m\n\u001b[0m",
      "\u001b[0;32m~/miniconda3/lib/python3.8/site-packages/IPython/core/interactiveshell.py\u001b[0m in \u001b[0;36mrun_cell_magic\u001b[0;34m(self, magic_name, line, cell)\u001b[0m\n\u001b[1;32m   2397\u001b[0m             \u001b[0;32mwith\u001b[0m \u001b[0mself\u001b[0m\u001b[0;34m.\u001b[0m\u001b[0mbuiltin_trap\u001b[0m\u001b[0;34m:\u001b[0m\u001b[0;34m\u001b[0m\u001b[0;34m\u001b[0m\u001b[0m\n\u001b[1;32m   2398\u001b[0m                 \u001b[0margs\u001b[0m \u001b[0;34m=\u001b[0m \u001b[0;34m(\u001b[0m\u001b[0mmagic_arg_s\u001b[0m\u001b[0;34m,\u001b[0m \u001b[0mcell\u001b[0m\u001b[0;34m)\u001b[0m\u001b[0;34m\u001b[0m\u001b[0;34m\u001b[0m\u001b[0m\n\u001b[0;32m-> 2399\u001b[0;31m                 \u001b[0mresult\u001b[0m \u001b[0;34m=\u001b[0m \u001b[0mfn\u001b[0m\u001b[0;34m(\u001b[0m\u001b[0;34m*\u001b[0m\u001b[0margs\u001b[0m\u001b[0;34m,\u001b[0m \u001b[0;34m**\u001b[0m\u001b[0mkwargs\u001b[0m\u001b[0;34m)\u001b[0m\u001b[0;34m\u001b[0m\u001b[0;34m\u001b[0m\u001b[0m\n\u001b[0m\u001b[1;32m   2400\u001b[0m             \u001b[0;32mreturn\u001b[0m \u001b[0mresult\u001b[0m\u001b[0;34m\u001b[0m\u001b[0;34m\u001b[0m\u001b[0m\n\u001b[1;32m   2401\u001b[0m \u001b[0;34m\u001b[0m\u001b[0m\n",
      "\u001b[0;32m~/miniconda3/lib/python3.8/site-packages/IPython/core/magics/script.py\u001b[0m in \u001b[0;36mnamed_script_magic\u001b[0;34m(line, cell)\u001b[0m\n\u001b[1;32m    140\u001b[0m             \u001b[0;32melse\u001b[0m\u001b[0;34m:\u001b[0m\u001b[0;34m\u001b[0m\u001b[0;34m\u001b[0m\u001b[0m\n\u001b[1;32m    141\u001b[0m                 \u001b[0mline\u001b[0m \u001b[0;34m=\u001b[0m \u001b[0mscript\u001b[0m\u001b[0;34m\u001b[0m\u001b[0;34m\u001b[0m\u001b[0m\n\u001b[0;32m--> 142\u001b[0;31m             \u001b[0;32mreturn\u001b[0m \u001b[0mself\u001b[0m\u001b[0;34m.\u001b[0m\u001b[0mshebang\u001b[0m\u001b[0;34m(\u001b[0m\u001b[0mline\u001b[0m\u001b[0;34m,\u001b[0m \u001b[0mcell\u001b[0m\u001b[0;34m)\u001b[0m\u001b[0;34m\u001b[0m\u001b[0;34m\u001b[0m\u001b[0m\n\u001b[0m\u001b[1;32m    143\u001b[0m \u001b[0;34m\u001b[0m\u001b[0m\n\u001b[1;32m    144\u001b[0m         \u001b[0;31m# write a basic docstring:\u001b[0m\u001b[0;34m\u001b[0m\u001b[0;34m\u001b[0m\u001b[0;34m\u001b[0m\u001b[0m\n",
      "\u001b[0;32m~/miniconda3/lib/python3.8/site-packages/decorator.py\u001b[0m in \u001b[0;36mfun\u001b[0;34m(*args, **kw)\u001b[0m\n\u001b[1;32m    229\u001b[0m             \u001b[0;32mif\u001b[0m \u001b[0;32mnot\u001b[0m \u001b[0mkwsyntax\u001b[0m\u001b[0;34m:\u001b[0m\u001b[0;34m\u001b[0m\u001b[0;34m\u001b[0m\u001b[0m\n\u001b[1;32m    230\u001b[0m                 \u001b[0margs\u001b[0m\u001b[0;34m,\u001b[0m \u001b[0mkw\u001b[0m \u001b[0;34m=\u001b[0m \u001b[0mfix\u001b[0m\u001b[0;34m(\u001b[0m\u001b[0margs\u001b[0m\u001b[0;34m,\u001b[0m \u001b[0mkw\u001b[0m\u001b[0;34m,\u001b[0m \u001b[0msig\u001b[0m\u001b[0;34m)\u001b[0m\u001b[0;34m\u001b[0m\u001b[0;34m\u001b[0m\u001b[0m\n\u001b[0;32m--> 231\u001b[0;31m             \u001b[0;32mreturn\u001b[0m \u001b[0mcaller\u001b[0m\u001b[0;34m(\u001b[0m\u001b[0mfunc\u001b[0m\u001b[0;34m,\u001b[0m \u001b[0;34m*\u001b[0m\u001b[0;34m(\u001b[0m\u001b[0mextras\u001b[0m \u001b[0;34m+\u001b[0m \u001b[0margs\u001b[0m\u001b[0;34m)\u001b[0m\u001b[0;34m,\u001b[0m \u001b[0;34m**\u001b[0m\u001b[0mkw\u001b[0m\u001b[0;34m)\u001b[0m\u001b[0;34m\u001b[0m\u001b[0;34m\u001b[0m\u001b[0m\n\u001b[0m\u001b[1;32m    232\u001b[0m     \u001b[0mfun\u001b[0m\u001b[0;34m.\u001b[0m\u001b[0m__name__\u001b[0m \u001b[0;34m=\u001b[0m \u001b[0mfunc\u001b[0m\u001b[0;34m.\u001b[0m\u001b[0m__name__\u001b[0m\u001b[0;34m\u001b[0m\u001b[0;34m\u001b[0m\u001b[0m\n\u001b[1;32m    233\u001b[0m     \u001b[0mfun\u001b[0m\u001b[0;34m.\u001b[0m\u001b[0m__doc__\u001b[0m \u001b[0;34m=\u001b[0m \u001b[0mfunc\u001b[0m\u001b[0;34m.\u001b[0m\u001b[0m__doc__\u001b[0m\u001b[0;34m\u001b[0m\u001b[0;34m\u001b[0m\u001b[0m\n",
      "\u001b[0;32m~/miniconda3/lib/python3.8/site-packages/IPython/core/magic.py\u001b[0m in \u001b[0;36m<lambda>\u001b[0;34m(f, *a, **k)\u001b[0m\n\u001b[1;32m    185\u001b[0m     \u001b[0;31m# but it's overkill for just that one bit of state.\u001b[0m\u001b[0;34m\u001b[0m\u001b[0;34m\u001b[0m\u001b[0;34m\u001b[0m\u001b[0m\n\u001b[1;32m    186\u001b[0m     \u001b[0;32mdef\u001b[0m \u001b[0mmagic_deco\u001b[0m\u001b[0;34m(\u001b[0m\u001b[0marg\u001b[0m\u001b[0;34m)\u001b[0m\u001b[0;34m:\u001b[0m\u001b[0;34m\u001b[0m\u001b[0;34m\u001b[0m\u001b[0m\n\u001b[0;32m--> 187\u001b[0;31m         \u001b[0mcall\u001b[0m \u001b[0;34m=\u001b[0m \u001b[0;32mlambda\u001b[0m \u001b[0mf\u001b[0m\u001b[0;34m,\u001b[0m \u001b[0;34m*\u001b[0m\u001b[0ma\u001b[0m\u001b[0;34m,\u001b[0m \u001b[0;34m**\u001b[0m\u001b[0mk\u001b[0m\u001b[0;34m:\u001b[0m \u001b[0mf\u001b[0m\u001b[0;34m(\u001b[0m\u001b[0;34m*\u001b[0m\u001b[0ma\u001b[0m\u001b[0;34m,\u001b[0m \u001b[0;34m**\u001b[0m\u001b[0mk\u001b[0m\u001b[0;34m)\u001b[0m\u001b[0;34m\u001b[0m\u001b[0;34m\u001b[0m\u001b[0m\n\u001b[0m\u001b[1;32m    188\u001b[0m \u001b[0;34m\u001b[0m\u001b[0m\n\u001b[1;32m    189\u001b[0m         \u001b[0;32mif\u001b[0m \u001b[0mcallable\u001b[0m\u001b[0;34m(\u001b[0m\u001b[0marg\u001b[0m\u001b[0;34m)\u001b[0m\u001b[0;34m:\u001b[0m\u001b[0;34m\u001b[0m\u001b[0;34m\u001b[0m\u001b[0m\n",
      "\u001b[0;32m~/miniconda3/lib/python3.8/site-packages/IPython/core/magics/script.py\u001b[0m in \u001b[0;36mshebang\u001b[0;34m(self, line, cell)\u001b[0m\n\u001b[1;32m    243\u001b[0m             \u001b[0msys\u001b[0m\u001b[0;34m.\u001b[0m\u001b[0mstderr\u001b[0m\u001b[0;34m.\u001b[0m\u001b[0mflush\u001b[0m\u001b[0;34m(\u001b[0m\u001b[0;34m)\u001b[0m\u001b[0;34m\u001b[0m\u001b[0;34m\u001b[0m\u001b[0m\n\u001b[1;32m    244\u001b[0m         \u001b[0;32mif\u001b[0m \u001b[0margs\u001b[0m\u001b[0;34m.\u001b[0m\u001b[0mraise_error\u001b[0m \u001b[0;32mand\u001b[0m \u001b[0mp\u001b[0m\u001b[0;34m.\u001b[0m\u001b[0mreturncode\u001b[0m\u001b[0;34m!=\u001b[0m\u001b[0;36m0\u001b[0m\u001b[0;34m:\u001b[0m\u001b[0;34m\u001b[0m\u001b[0;34m\u001b[0m\u001b[0m\n\u001b[0;32m--> 245\u001b[0;31m             \u001b[0;32mraise\u001b[0m \u001b[0mCalledProcessError\u001b[0m\u001b[0;34m(\u001b[0m\u001b[0mp\u001b[0m\u001b[0;34m.\u001b[0m\u001b[0mreturncode\u001b[0m\u001b[0;34m,\u001b[0m \u001b[0mcell\u001b[0m\u001b[0;34m,\u001b[0m \u001b[0moutput\u001b[0m\u001b[0;34m=\u001b[0m\u001b[0mout\u001b[0m\u001b[0;34m,\u001b[0m \u001b[0mstderr\u001b[0m\u001b[0;34m=\u001b[0m\u001b[0merr\u001b[0m\u001b[0;34m)\u001b[0m\u001b[0;34m\u001b[0m\u001b[0;34m\u001b[0m\u001b[0m\n\u001b[0m\u001b[1;32m    246\u001b[0m \u001b[0;34m\u001b[0m\u001b[0m\n\u001b[1;32m    247\u001b[0m     \u001b[0;32mdef\u001b[0m \u001b[0m_run_script\u001b[0m\u001b[0;34m(\u001b[0m\u001b[0mself\u001b[0m\u001b[0;34m,\u001b[0m \u001b[0mp\u001b[0m\u001b[0;34m,\u001b[0m \u001b[0mcell\u001b[0m\u001b[0;34m,\u001b[0m \u001b[0mto_close\u001b[0m\u001b[0;34m)\u001b[0m\u001b[0;34m:\u001b[0m\u001b[0;34m\u001b[0m\u001b[0;34m\u001b[0m\u001b[0m\n",
      "\u001b[0;31mCalledProcessError\u001b[0m: Command 'b\"\\necho 1 | xargs -n 1 -P 1  bash -c $'\\nB=$1\\npkfilter -co COMPRESS=LZW -co ZLEVEL=9 -f savgolay -nl 3 -nr 3 -m 2 -pad replicate -i geodata/glad_ard/median_akima_${B}b.tif -o geodata/glad_ard/median_savgolay_${B}b.tif\\n' _\\n\"' returned non-zero exit status 125."
     ]
    }
   ],
   "source": [
    "%%bash\n",
    "\n",
    "echo 1 | xargs -n 1 -P 1  bash -c $'\n",
    "B=$1\n",
    "pkfilter -co COMPRESS=LZW -co ZLEVEL=9 -f savgolay -nl 3 -nr 3 -m 2 -pad replicate -i geodata/glad_ard/median_akima_${B}b.tif -o geodata/glad_ard/median_savgolay_${B}b.tif\n",
    "' _"
   ]
  },
  {
   "cell_type": "markdown",
   "metadata": {},
   "source": [
    "## Assessing the Savitzky–Golay smoothing filter\n",
    "\n",
    "We use the lat lon location to extract the value for the Savitzky–Golay smoothing filter and we plot against the previus values"
   ]
  },
  {
   "cell_type": "code",
   "execution_count": 63,
   "metadata": {},
   "outputs": [],
   "source": [
    "%%bash\n",
    "echo \"savgolay\" > geodata/glad_ard/savgolay.txt\n",
    "gdallocationinfo -valonly -geoloc geodata/glad_ard/median_savgolay_1b.tif 15.2866 38.0539  >> geodata/glad_ard/savgolay.txt\n",
    "paste -d \" \" geodata/glad_ard/day_orig_akima_stefen.txt geodata/glad_ard/savgolay.txt > geodata/glad_ard/day_orig_akima_stefen_savgolay.txt"
   ]
  },
  {
   "cell_type": "code",
   "execution_count": 64,
   "metadata": {},
   "outputs": [
    {
     "name": "stdout",
     "output_type": "stream",
     "text": [
      "day tseries akima stefen savgolay\n",
      "8 0 1028 1056 1072\n",
      "24 0 1176 1182 1166\n",
      "40 1309 1309 1309 1294\n",
      "56 0 1427 1416 1444\n",
      "72 0 1538 1522 1533\n",
      "88 1629 1629 1629 1600\n",
      "104 1554 1554 1554 1574\n",
      "120 1577 1577 1577 1517\n",
      "136 1370 1370 1370 1468\n",
      "152 1465 1465 1465 1450\n",
      "168 1466 1466 1466 1430\n",
      "184 1412 1412 1412 1398\n",
      "200 1342 1342 1342 1330\n",
      "216 1239 1239 1239 1328\n",
      "232 1376 1376 1376 1374\n",
      "248 1479 1479 1479 1418\n",
      "264 0 1421 1351 1406\n",
      "280 0 1277 1224 1286\n",
      "296 0 1107 1096 1117\n",
      "312 968 968 968 956\n",
      "328 0 843 885 866\n",
      "344 802 802 802 839\n",
      "360 0 894 929 853\n"
     ]
    }
   ],
   "source": [
    "! cat geodata/glad_ard/day_orig_akima_stefen_savgolay.txt"
   ]
  },
  {
   "cell_type": "code",
   "execution_count": 65,
   "metadata": {},
   "outputs": [
    {
     "name": "stdout",
     "output_type": "stream",
     "text": [
      "> tseries = read.table(\"geodata/glad_ard/day_orig_akima_stefen_savgolay.txt\", sep=\" \" , header=TRUE)\n",
      "> str(tseries)\n",
      "'data.frame':\t23 obs. of  5 variables:\n",
      " $ day     : int  8 24 40 56 72 88 104 120 136 152 ...\n",
      " $ tseries : int  0 0 1309 0 0 1629 1554 1577 1370 1465 ...\n",
      " $ akima   : int  1028 1176 1309 1427 1538 1629 1554 1577 1370 1465 ...\n",
      " $ stefen  : int  1056 1182 1309 1416 1522 1629 1554 1577 1370 1465 ...\n",
      " $ savgolay: int  1072 1166 1294 1444 1533 1600 1574 1517 1468 1450 ...\n",
      "> png(\"geodata/glad_ard/plot_interpolation2.png\")\n",
      "> plot(tseries$day ,  tseries$tseries , pch=4 , cex = 2 , col=\"blue\" , xlab=(\"Day of the year\") , ylab=(\"Spectral digital number\") )\n",
      "> points(tseries$day , tseries$stefen  , col=\"red\" , pch=19 )\n",
      "> points(tseries$day , tseries$akima , pch=1 )\n",
      "> points(tseries$day , tseries$savgolay , pch=3 , col=\"green\")\n",
      "> legend(x=1,y=600,c(\"Original\",\"Stefen interp\",\"Akima interp\",\"Savitzky-Golay smoothness\"),cex=1.4,col=c(\"blue\",\"red\",\"black\",col=\"green\"),pch=c(2,19,1,3))\n",
      "> dev.off()\n",
      "null device \n",
      "          1 \n",
      "> \n"
     ]
    }
   ],
   "source": [
    "%%bash \n",
    "R --vanilla -q\n",
    "tseries = read.table(\"geodata/glad_ard/day_orig_akima_stefen_savgolay.txt\", sep=\" \" , header=TRUE)\n",
    "str(tseries)\n",
    "png(\"geodata/glad_ard/plot_interpolation2.png\")\n",
    "plot(tseries$day ,  tseries$tseries , pch=4 , cex = 2 , col=\"blue\" , xlab=(\"Day of the year\") , ylab=(\"Spectral digital number\") )\n",
    "points(tseries$day , tseries$stefen  , col=\"red\" , pch=19 )\n",
    "points(tseries$day , tseries$akima , pch=1 )\n",
    "points(tseries$day , tseries$savgolay , pch=3 , col=\"green\")\n",
    "legend(x=1,y=600,c(\"Original\",\"Stefen interp\",\"Akima interp\",\"Savitzky-Golay smoothness\"),cex=1.4,col=c(\"blue\",\"red\",\"black\",col=\"green\"),pch=c(2,19,1,3))\n",
    "dev.off()"
   ]
  },
  {
   "cell_type": "markdown",
   "metadata": {},
   "source": [
    "![Temporal interpolation results](geodata/glad_ard/plot_interpolation2.png)"
   ]
  },
  {
   "cell_type": "markdown",
   "metadata": {},
   "source": [
    "## Wavelet prediction\n",
    "\n",
    "We use the Wavelet tecnique to predic the value for the 15 of each month"
   ]
  },
  {
   "cell_type": "code",
   "execution_count": 66,
   "metadata": {},
   "outputs": [
    {
     "name": "stdout",
     "output_type": "stream",
     "text": [
      "opening output image geodata/glad_ard/median_akima_wavelet_1b.tif with 12 bands\n",
      "0...10...20...30...40...50...60...70...80...90...100 - done.\n"
     ]
    }
   ],
   "source": [
    "%%bash \n",
    "\n",
    "# gdalbuildvrt -srcnodata 0 -vrtnodata 0 -separate  -overwrite  geodata/glad_ard/median_akima_${B}b.vrt \n",
    "echo 1 | xargs -n 1 -P 1  bash -c $'\n",
    "B=$1\n",
    "pkfilter -of GTiff -co COMPRESS=LZW -co ZLEVEL=9 \\\n",
    "$(for day in  01 02 03 04 05 06 07 08 09 $( seq 10 23 )  ; do  echo \"-win\"  $(expr $day \\\\* 16  - 8) ; done) \\\n",
    "$(for day in  01 02 03 04 05 06 07 08 09 10 11 12   ; do  echo \"-wout\"  $(expr $day \\\\* 31  - 15) \"-fwhm\" 50  ; done  )  \\\n",
    "-i geodata/glad_ard/median_akima_${B}b.tif  -o geodata/glad_ard/median_akima_wavelet_${B}b.tif\n",
    "' _"
   ]
  },
  {
   "cell_type": "code",
   "execution_count": 67,
   "metadata": {},
   "outputs": [
    {
     "name": "stdout",
     "output_type": "stream",
     "text": [
      "day wavelet\n",
      "16 1204\n",
      "47 1363\n",
      "78 1526\n",
      "109 1542\n",
      "140 1467\n",
      "171 1424\n",
      "202 1353\n",
      "233 1369\n",
      "264 1350\n",
      "295 1129\n",
      "326 915\n",
      "357 842\n"
     ]
    }
   ],
   "source": [
    "%%bash \n",
    "echo \"day wavelet\" > geodata/glad_ard/day_wavelet.txt\n",
    "paste -d \" \" <(  for day in  01 02 03 04 05 06 07 08 09 10 11 12   ; do    expr $day \\* 31  - 15  ; done   ) \\\n",
    "<(gdallocationinfo -valonly  -geoloc geodata/glad_ard/median_akima_wavelet_1b.tif 15.2866 38.0539 )  >> geodata/glad_ard/day_wavelet.txt\n",
    "cat geodata/glad_ard/day_wavelet.txt"
   ]
  },
  {
   "cell_type": "code",
   "execution_count": 73,
   "metadata": {},
   "outputs": [
    {
     "name": "stdout",
     "output_type": "stream",
     "text": [
      "> tseries1 = read.table(\"geodata/glad_ard/day_orig_akima_stefen_savgolay.txt\", sep=\" \" , header=TRUE)\n",
      "> tseries2 = read.table(\"geodata/glad_ard/day_wavelet.txt\", sep=\" \" , header=TRUE)\n",
      "> png(\"geodata/glad_ard/plot_interpolation3.png\" )\n",
      "> plot(tseries1$day ,  tseries1$tseries , pch=4 , cex = 2 , col=\"blue\" , xlab=(\"Day of the year\") , ylab=(\"Spectral digital number\") )\n",
      "> points(tseries1$day , tseries1$stefen  , col=\"red\" , pch=19 )\n",
      "> points(tseries1$day , tseries1$akima , pch=1 )\n",
      "> points(tseries1$day , tseries1$savgolay , pch=3 , col=\"green\")\n",
      "> points(tseries2$day , tseries2$wavelet , pch=5 , col=\"orange\")\n",
      "> legend(x=1,y=600,c(\"Original\",\"Stefen interp\",\"Akima interp\",\"Savitzky-Golay smoothness\",\"Wavelet prediction\"),cex=0.5,col=c(\"blue\",\"red\",\"black\",\"green\",\"orange\"),pch=c(4,19,1,3,5))\n",
      "> dev.off()\n",
      "null device \n",
      "          1 \n",
      "> \n"
     ]
    }
   ],
   "source": [
    "%%bash \n",
    "R --vanilla -q\n",
    "tseries1 = read.table(\"geodata/glad_ard/day_orig_akima_stefen_savgolay.txt\", sep=\" \" , header=TRUE)\n",
    "tseries2 = read.table(\"geodata/glad_ard/day_wavelet.txt\", sep=\" \" , header=TRUE)\n",
    "png(\"geodata/glad_ard/plot_interpolation3.png\" )\n",
    "plot(tseries1$day ,  tseries1$tseries , pch=4 , cex = 2 , col=\"blue\" , xlab=(\"Day of the year\") , ylab=(\"Spectral digital number\") )\n",
    "points(tseries1$day , tseries1$stefen  , col=\"red\" , pch=19 )\n",
    "points(tseries1$day , tseries1$akima , pch=1 )\n",
    "points(tseries1$day , tseries1$savgolay , pch=3 , col=\"green\")\n",
    "points(tseries2$day , tseries2$wavelet , pch=5 , col=\"orange\")\n",
    "legend(x=1,y=600,c(\"Original\",\"Stefen interp\",\"Akima interp\",\"Savitzky-Golay smoothness\",\"Wavelet prediction\"),cex=0.5,col=c(\"blue\",\"red\",\"black\",\"green\",\"orange\"),pch=c(4,19,1,3,5))\n",
    "dev.off()"
   ]
  },
  {
   "cell_type": "markdown",
   "metadata": {},
   "source": [
    "![Temporal interpolation results](geodata/glad_ard/plot_interpolation2.png)"
   ]
  },
  {
   "cell_type": "code",
   "execution_count": null,
   "metadata": {},
   "outputs": [],
   "source": []
  },
  {
   "cell_type": "code",
   "execution_count": null,
   "metadata": {},
   "outputs": [],
   "source": []
  }
 ],
 "metadata": {
  "kernelspec": {
   "display_name": "Python 3",
   "language": "python",
   "name": "python3"
  },
  "language_info": {
   "codemirror_mode": {
    "name": "ipython",
    "version": 3
   },
   "file_extension": ".py",
   "mimetype": "text/x-python",
   "name": "python",
   "nbconvert_exporter": "python",
   "pygments_lexer": "ipython3",
   "version": "3.8.5"
  }
 },
 "nbformat": 4,
 "nbformat_minor": 4
}
