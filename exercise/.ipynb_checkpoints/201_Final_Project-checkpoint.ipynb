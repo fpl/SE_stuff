{
 "cells": [
  {
   "cell_type": "markdown",
   "id": "brown-makeup",
   "metadata": {},
   "source": [
    "# Rubric for Final Project\n",
    "\n",
    "-----------------------\n",
    "\n",
    "GeoComput. & ML\n",
    " \n",
    "22 May 2021\n"
   ]
  },
  {
   "cell_type": "markdown",
   "id": "ignored-diploma",
   "metadata": {},
   "source": [
    "## Overarching Goals \n",
    "\n",
    "1. level of understanding of spatial modelling  \n",
    "2. independent ability of organising, developing and completing a project \n",
    "3. skills at delivering and defending your final project\n",
    "\n",
    "## Project format \n",
    "1. written report : jupyer-notebook and its pdf\n",
    "2. oral defense (**20\\~30** min) : 15\\~20 min ppt presentation + 5\\~10 min Q&A\n"
   ]
  },
  {
   "cell_type": "markdown",
   "id": "circular-parts",
   "metadata": {},
   "source": [
    "## Grading \n",
    "\n",
    "### Report : 50% (excluding bonus)\n",
    "1. project description : background info, interests of study, significance, etc. 10% \n",
    "\n",
    "2. data acquisatio, description, and exploration 20%\n",
    "\n",
    "3. model construction, analysis and delivery   20%\n",
    "\n",
    "4. bonus points, demonstrating exceptional coding/modelling skills : 10%\n",
    "\n",
    "    \n",
    "graded by the instructors\n",
    "\n"
   ]
  },
  {
   "cell_type": "markdown",
   "id": "popular-brush",
   "metadata": {},
   "source": [
    "### Oral defense : 50%\n",
    "1. Presentation organisation, narration, logic transition : 10% \n",
    "2. use of visual aids, aesthetics : maps, graphs, color contrast, etc. : 10%\n",
    "3. data procedure and processing : 10 %\n",
    "4. modelling procedure and analytics : 10% \n",
    "5. response to the questions : 10%\n",
    "\n",
    "graded by instructors and peers "
   ]
  }
 ],
 "metadata": {
  "kernelspec": {
   "display_name": "Python 3",
   "language": "python",
   "name": "python3"
  },
  "language_info": {
   "codemirror_mode": {
    "name": "ipython",
    "version": 3
   },
   "file_extension": ".py",
   "mimetype": "text/x-python",
   "name": "python",
   "nbconvert_exporter": "python",
   "pygments_lexer": "ipython3",
   "version": "3.8.8"
  }
 },
 "nbformat": 4,
 "nbformat_minor": 5
}
