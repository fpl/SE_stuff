{
 "cells": [
  {
   "cell_type": "markdown",
   "id": "thirty-lebanon",
   "metadata": {},
   "source": [
    "## Assignment : 20210329\n",
    "\n",
    "- individual effort or collaboration by maximum two people \n",
    "- no collaboration on bonus questions\n",
    "- if in collaboration, please specify the contribution of each contributor \n",
    "- please turn in a set of .pdf and .ipynb files\n",
    "- please label the question number before giving the answer\n",
    "\n",
    "Q1 (Bonus, 10%) : Represent the Eucledian distance formula using the spherical coordinates. \n",
    "\n",
    "$d(A,B) = \\sqrt{(A_x - B_x)^2 + (A_y - B_y)^2 + (A_z - B_z)^2}$\n",
    "\n",
    "\n",
    "coordinates conversion : catesian to spherical \n",
    "\n",
    "$\n",
    "\\left\\{\n",
    "\\begin{align*}\n",
    "z &= r\\, cos(\\theta) \\\\\n",
    "x &= r\\, sin(\\theta)\\, cos(\\phi) \\\\\n",
    "y &= r\\, sin(\\theta)\\, sin(\\phi)\n",
    "\\end{align*}\n",
    "\\right.\n",
    "$\n",
    "\n",
    "\n",
    "Q2 (Bonus, 10%) : Atmospheric pressure $P(z)$(hPa) as a function of altitude z (km) in the troposphere\n",
    "\n",
    "$P(z) = 1013.25\\, \\left(\\dfrac{288 - 6.5z}{288}\\right)^{5.255}$\n",
    "\n",
    "Compute the gradient of $P(z)$ and plot it as a function of $z$ in the range ($1 < z <12$)\n",
    "\n",
    "Hint : consult help(plot) to set the range for the plot. "
   ]
  }
 ],
 "metadata": {
  "kernelspec": {
   "display_name": "R",
   "language": "R",
   "name": "ir"
  },
  "language_info": {
   "codemirror_mode": "r",
   "file_extension": ".r",
   "mimetype": "text/x-r-source",
   "name": "R",
   "pygments_lexer": "r",
   "version": "4.0.4"
  }
 },
 "nbformat": 4,
 "nbformat_minor": 5
}
