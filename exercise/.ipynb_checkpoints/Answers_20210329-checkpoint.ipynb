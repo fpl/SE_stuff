{
 "cells": [
  {
   "cell_type": "markdown",
   "id": "primary-austin",
   "metadata": {},
   "source": [
    "## Assignment : 20210329\n",
    "\n",
    "- individual effort or collaboration by maximum two people \n",
    "- no collaboration on bonus questions\n",
    "- if in collaboration, please specify the contribution of each contributor \n",
    "- please turn in a set of .pdf and .ipynb files\n",
    "- please label the question number before giving the answer\n"
   ]
  },
  {
   "cell_type": "markdown",
   "id": "subject-advancement",
   "metadata": {},
   "source": [
    "Q1 (Bonus, 10%) : Represent the Eucledian distance formula using the spherical coordinates. \n",
    "\n",
    "$d(A,B) = \\sqrt{(A_x - B_x)^2 + (A_y - B_y)^2 + (A_z - B_z)^2}$\n",
    "\n",
    "\n",
    "coordinates conversion : catesian to spherical \n",
    "\n",
    "$\n",
    "\\left\\{\n",
    "\\begin{align*}\n",
    "z &= r\\, cos(\\theta) \\\\\n",
    "x &= r\\, sin(\\theta)\\, cos(\\phi) \\\\\n",
    "y &= r\\, sin(\\theta)\\, sin(\\phi)\n",
    "\\end{align*}\n",
    "\\right.\n",
    "$\n",
    "\n"
   ]
  },
  {
   "cell_type": "markdown",
   "id": "current-extent",
   "metadata": {},
   "source": [
    "Answer : Q1\n",
    "\n",
    "\\begin{align*}\n",
    "d(A,B) &= \\sqrt{(r_A sin\\theta_A cos\\phi_A - r_B sin\\theta_B cos\\phi_B)^2 + (r_A sin\\theta_A sin\\phi_A - r_B sin\\theta_B sin\\phi_B)^2 + (r_A cos\\theta_A - r_B cos\\theta_B)^2}\\\\\n",
    "       &= \\sqrt{r_A sin^2\\theta_A cos^2\\theta_A + r_B sin^2\\theta_B cos^2\\theta_B - 2r_Ar_B sin\\theta_A cos\\phi_A sin\\theta_B cos\\phi_B +r_A sin^2\\theta_A sin^2\\theta_A + r_B sin^2\\theta_B sin^2\\theta_B - 2r_Ar_B sin\\theta_A sin\\phi_A sin\\theta_B sin\\phi_B + r^2_Acos^2\\theta_A + r^2_Bcos^2\\theta_B - 2r_Ar_B cos\\theta_A cos\\theta_B}\n",
    "\\end{align*}\n"
   ]
  },
  {
   "cell_type": "markdown",
   "id": "altered-voice",
   "metadata": {},
   "source": [
    "Q2 (Bonus, 10%) : Atmospheric pressure $P(z)$(hPa) as a function of altitude z (km) in the troposphere\n",
    "\n",
    "$P(z) = 1013.25\\, \\left(\\dfrac{288 - 6.5z}{288}\\right)^{5.255}$\n",
    "\n",
    "Compute the gradient of $P(z)$ and plot it as a function of $z$ in the range ($1 < z <12$)\n"
   ]
  }
 ],
 "metadata": {
  "kernelspec": {
   "display_name": "R",
   "language": "R",
   "name": "ir"
  },
  "language_info": {
   "codemirror_mode": "r",
   "file_extension": ".r",
   "mimetype": "text/x-r-source",
   "name": "R",
   "pygments_lexer": "r",
   "version": "4.0.4"
  }
 },
 "nbformat": 4,
 "nbformat_minor": 5
}
