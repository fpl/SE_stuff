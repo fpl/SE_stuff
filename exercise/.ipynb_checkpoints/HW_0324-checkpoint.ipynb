{
 "cells": [
  {
   "cell_type": "markdown",
   "id": "organizational-martial",
   "metadata": {},
   "source": [
    "## Assignment \n",
    "\n",
    "- individual effort or collaboration by maximum two people \n",
    "- if in collaboration, please specify the contribution of each contributor \n",
    "- please turn in a set of .pdf and .ipynb files\n",
    "- please label the question number before giving the answer\n",
    "\n",
    "Q1. Read in file \"./geodata/shp/point_stat.csv\" and output the rows that their values in the \"stdev\" column are less than those in their \"min\" column and their \"mean\" values are all greater than 7. (20%)\n",
    "\n",
    "\n",
    "Q2. Create a 3x3 matrix with element values in the range of 1 to 9 and then change the diagonal elements to 0. (20%)\n",
    "\n",
    "```\n",
    "1\t4\t7           0\t4\t7\n",
    "2\t5\t8    ==>    2\t0\t8\n",
    "3\t6\t9           3\t6\t0\n",
    "```\n",
    "\n",
    "\n",
    "Q3. Create a dataframe to store the calendar of March 2021 with the day of the week as the column name. (20%) \n",
    "\n",
    "```\n",
    "Mo Tu We Th Fr Sa Su \n",
    " 1  2  3  4  5  6  7 \n",
    " 8  9 10 11 12 13 14 \n",
    "15 16 17 18 19 20 21 \n",
    "22 23 24 25 26 27 28 \n",
    "29 30 31\n",
    "```\n",
    "QB (bonus) (10%)\n",
    "\n",
    "According to Gregorian calendar, leap years can be determined by the criteria below. \n",
    "```\n",
    "Years that are divisible by 4 and not divisible by 100 are leap years. \n",
    "Years that are divisible by 100 but not divisible by 400 are NOT leap years. \n",
    "Years that are divisible by 400 are leap years. \n",
    "```\n",
    "Please write a R script to print all the leap years between 1800 and 2020 into a file named \"leap_years.dat\" and calculate the ratio of the number of leap years over this period of time."
   ]
  }
 ],
 "metadata": {
  "kernelspec": {
   "display_name": "R",
   "language": "R",
   "name": "ir"
  },
  "language_info": {
   "codemirror_mode": "r",
   "file_extension": ".r",
   "mimetype": "text/x-r-source",
   "name": "R",
   "pygments_lexer": "r",
   "version": "4.0.4"
  }
 },
 "nbformat": 4,
 "nbformat_minor": 5
}
