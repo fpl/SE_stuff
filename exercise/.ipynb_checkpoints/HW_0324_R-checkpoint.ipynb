{
 "cells": [
  {
   "cell_type": "markdown",
   "id": "aggressive-aging",
   "metadata": {},
   "source": [
    "## Assignment \n",
    "\n",
    "- individual effort or collaboration by maximum two people \n",
    "- if in collaboration, please specify the contribution of each contributor \n",
    "- please turn in a set of .pdf and .ipynb files\n",
    "- please label the question number before giving the answer\n",
    "\n",
    "Q1. Read in file \"./geodata/shp/point_stat.csv\" and output the rows that their values in the \"stdev\" column are less than those in their \"min\" column and their \"mean\" values are all greater than 7. (20%)\n",
    "\n",
    "\n",
    "Q2. Create a 3x3 matrix with element values in the range of 1 to 9 and then change the diagonal elements to 0. (20%)\n",
    "\n",
    "```\n",
    "1\t4\t7           0\t4\t7\n",
    "2\t5\t8    ==>    2\t0\t8\n",
    "3\t6\t9           3\t6\t0\n",
    "```\n",
    "\n",
    "\n",
    "Q3. Create a dataframe to store the calendar of March 2021 with the day of the week as the column name. (20%) \n",
    "\n",
    "```\n",
    "Mo Tu We Th Fr Sa Su \n",
    " 1  2  3  4  5  6  7 \n",
    " 8  9 10 11 12 13 14 \n",
    "15 16 17 18 19 20 21 \n",
    "22 23 24 25 26 27 28 \n",
    "29 30 31\n",
    "```\n",
    "QB (bonus) (10%)\n",
    "\n",
    "According to Gregorian calendar, leap years can be determined by the criteria below. \n",
    "```\n",
    "Years that are divisible by 4 and not divisible by 100 are leap years. \n",
    "Years that are divisible by 100 but not divisible by 400 are NOT leap years. \n",
    "Years that are divisible by 400 are leap years. \n",
    "```\n",
    "Please write a R script to print all the leap years between 1800 and 2020 into a file named \"leap_years.dat\" and calculate the ratio of the number of leap years over this period of time."
   ]
  },
  {
   "cell_type": "markdown",
   "id": "affiliated-spank",
   "metadata": {},
   "source": [
    "Q1"
   ]
  },
  {
   "cell_type": "code",
   "execution_count": 5,
   "id": "brave-answer",
   "metadata": {},
   "outputs": [
    {
     "data": {
      "text/html": [
       "<table class=\"dataframe\">\n",
       "<caption>A data.frame: 2 × 4</caption>\n",
       "<thead>\n",
       "\t<tr><th></th><th scope=col>FID</th><th scope=col>mean</th><th scope=col>stdev</th><th scope=col>min</th></tr>\n",
       "\t<tr><th></th><th scope=col>&lt;int&gt;</th><th scope=col>&lt;dbl&gt;</th><th scope=col>&lt;dbl&gt;</th><th scope=col>&lt;dbl&gt;</th></tr>\n",
       "</thead>\n",
       "<tbody>\n",
       "\t<tr><th scope=row>106</th><td>105</td><td>7.536515</td><td>0.1895011</td><td>7.16515</td></tr>\n",
       "\t<tr><th scope=row>107</th><td>106</td><td>7.536515</td><td>0.1895011</td><td>7.16515</td></tr>\n",
       "</tbody>\n",
       "</table>\n"
      ],
      "text/latex": [
       "A data.frame: 2 × 4\n",
       "\\begin{tabular}{r|llll}\n",
       "  & FID & mean & stdev & min\\\\\n",
       "  & <int> & <dbl> & <dbl> & <dbl>\\\\\n",
       "\\hline\n",
       "\t106 & 105 & 7.536515 & 0.1895011 & 7.16515\\\\\n",
       "\t107 & 106 & 7.536515 & 0.1895011 & 7.16515\\\\\n",
       "\\end{tabular}\n"
      ],
      "text/markdown": [
       "\n",
       "A data.frame: 2 × 4\n",
       "\n",
       "| <!--/--> | FID &lt;int&gt; | mean &lt;dbl&gt; | stdev &lt;dbl&gt; | min &lt;dbl&gt; |\n",
       "|---|---|---|---|---|\n",
       "| 106 | 105 | 7.536515 | 0.1895011 | 7.16515 |\n",
       "| 107 | 106 | 7.536515 | 0.1895011 | 7.16515 |\n",
       "\n"
      ],
      "text/plain": [
       "    FID mean     stdev     min    \n",
       "106 105 7.536515 0.1895011 7.16515\n",
       "107 106 7.536515 0.1895011 7.16515"
      ]
     },
     "metadata": {},
     "output_type": "display_data"
    }
   ],
   "source": [
    "df <- read.csv(\"./geodata/shp/point_stat.csv\")\n",
    "subset(df,df$stdev < df$min & df$mean > 7)"
   ]
  },
  {
   "cell_type": "markdown",
   "id": "satisfactory-robertson",
   "metadata": {},
   "source": [
    "Q2"
   ]
  },
  {
   "cell_type": "code",
   "execution_count": 8,
   "id": "local-socket",
   "metadata": {},
   "outputs": [
    {
     "data": {
      "text/html": [
       "<table class=\"dataframe\">\n",
       "<caption>A matrix: 3 × 3 of type int</caption>\n",
       "<tbody>\n",
       "\t<tr><td>1</td><td>4</td><td>7</td></tr>\n",
       "\t<tr><td>2</td><td>5</td><td>8</td></tr>\n",
       "\t<tr><td>3</td><td>6</td><td>9</td></tr>\n",
       "</tbody>\n",
       "</table>\n"
      ],
      "text/latex": [
       "A matrix: 3 × 3 of type int\n",
       "\\begin{tabular}{lll}\n",
       "\t 1 & 4 & 7\\\\\n",
       "\t 2 & 5 & 8\\\\\n",
       "\t 3 & 6 & 9\\\\\n",
       "\\end{tabular}\n"
      ],
      "text/markdown": [
       "\n",
       "A matrix: 3 × 3 of type int\n",
       "\n",
       "| 1 | 4 | 7 |\n",
       "| 2 | 5 | 8 |\n",
       "| 3 | 6 | 9 |\n",
       "\n"
      ],
      "text/plain": [
       "     [,1] [,2] [,3]\n",
       "[1,] 1    4    7   \n",
       "[2,] 2    5    8   \n",
       "[3,] 3    6    9   "
      ]
     },
     "metadata": {},
     "output_type": "display_data"
    },
    {
     "data": {
      "text/html": [
       "<table class=\"dataframe\">\n",
       "<caption>A matrix: 3 × 3 of type dbl</caption>\n",
       "<tbody>\n",
       "\t<tr><td>0</td><td>4</td><td>7</td></tr>\n",
       "\t<tr><td>2</td><td>0</td><td>8</td></tr>\n",
       "\t<tr><td>3</td><td>6</td><td>0</td></tr>\n",
       "</tbody>\n",
       "</table>\n"
      ],
      "text/latex": [
       "A matrix: 3 × 3 of type dbl\n",
       "\\begin{tabular}{lll}\n",
       "\t 0 & 4 & 7\\\\\n",
       "\t 2 & 0 & 8\\\\\n",
       "\t 3 & 6 & 0\\\\\n",
       "\\end{tabular}\n"
      ],
      "text/markdown": [
       "\n",
       "A matrix: 3 × 3 of type dbl\n",
       "\n",
       "| 0 | 4 | 7 |\n",
       "| 2 | 0 | 8 |\n",
       "| 3 | 6 | 0 |\n",
       "\n"
      ],
      "text/plain": [
       "     [,1] [,2] [,3]\n",
       "[1,] 0    4    7   \n",
       "[2,] 2    0    8   \n",
       "[3,] 3    6    0   "
      ]
     },
     "metadata": {},
     "output_type": "display_data"
    }
   ],
   "source": [
    "myMat <- matrix(1:9,nrow=3)\n",
    "myMat\n",
    "for (i in 1:3){\n",
    "    myMat[i,i] <- 0\n",
    "}\n",
    "myMat"
   ]
  },
  {
   "cell_type": "markdown",
   "id": "disciplinary-journal",
   "metadata": {},
   "source": [
    "Q3 "
   ]
  },
  {
   "cell_type": "code",
   "execution_count": 40,
   "id": "downtown-charter",
   "metadata": {},
   "outputs": [
    {
     "data": {
      "text/html": [
       "<table class=\"dataframe\">\n",
       "<caption>A matrix: 5 × 7 of type chr</caption>\n",
       "<thead>\n",
       "\t<tr><th scope=col>Mo</th><th scope=col>Tu</th><th scope=col>We</th><th scope=col>Th</th><th scope=col>Fr</th><th scope=col>Sa</th><th scope=col>Su</th></tr>\n",
       "</thead>\n",
       "<tbody>\n",
       "\t<tr><td>1 </td><td>2 </td><td>3 </td><td>4 </td><td>5 </td><td>6 </td><td>7 </td></tr>\n",
       "\t<tr><td>8 </td><td>9 </td><td>10</td><td>11</td><td>12</td><td>13</td><td>14</td></tr>\n",
       "\t<tr><td>15</td><td>16</td><td>17</td><td>18</td><td>19</td><td>20</td><td>21</td></tr>\n",
       "\t<tr><td>22</td><td>23</td><td>24</td><td>25</td><td>26</td><td>27</td><td>28</td></tr>\n",
       "\t<tr><td>29</td><td>30</td><td>31</td><td>  </td><td>  </td><td>  </td><td>  </td></tr>\n",
       "</tbody>\n",
       "</table>\n"
      ],
      "text/latex": [
       "A matrix: 5 × 7 of type chr\n",
       "\\begin{tabular}{lllllll}\n",
       " Mo & Tu & We & Th & Fr & Sa & Su\\\\\n",
       "\\hline\n",
       "\t 1  & 2  & 3  & 4  & 5  & 6  & 7 \\\\\n",
       "\t 8  & 9  & 10 & 11 & 12 & 13 & 14\\\\\n",
       "\t 15 & 16 & 17 & 18 & 19 & 20 & 21\\\\\n",
       "\t 22 & 23 & 24 & 25 & 26 & 27 & 28\\\\\n",
       "\t 29 & 30 & 31 &    &    &    &   \\\\\n",
       "\\end{tabular}\n"
      ],
      "text/markdown": [
       "\n",
       "A matrix: 5 × 7 of type chr\n",
       "\n",
       "| Mo | Tu | We | Th | Fr | Sa | Su |\n",
       "|---|---|---|---|---|---|---|\n",
       "| 1  | 2  | 3  | 4  | 5  | 6  | 7  |\n",
       "| 8  | 9  | 10 | 11 | 12 | 13 | 14 |\n",
       "| 15 | 16 | 17 | 18 | 19 | 20 | 21 |\n",
       "| 22 | 23 | 24 | 25 | 26 | 27 | 28 |\n",
       "| 29 | 30 | 31 | <!----> | <!----> | <!----> | <!----> |\n",
       "\n"
      ],
      "text/plain": [
       "     Mo Tu We Th Fr Sa Su\n",
       "[1,] 1  2  3  4  5  6  7 \n",
       "[2,] 8  9  10 11 12 13 14\n",
       "[3,] 15 16 17 18 19 20 21\n",
       "[4,] 22 23 24 25 26 27 28\n",
       "[5,] 29 30 31            "
      ]
     },
     "metadata": {},
     "output_type": "display_data"
    }
   ],
   "source": [
    "myMat <- matrix(1:35,ncol=7,byrow=TRUE)\n",
    "myMat[5,4:7] <- rep(\"\",4)\n",
    "colnames(myMat) <- c(\"Mo\", \"Tu\", \"We\", \"Th\", \"Fr\", \"Sa\", \"Su\")\n",
    "myMat"
   ]
  },
  {
   "cell_type": "markdown",
   "id": "fantastic-minister",
   "metadata": {},
   "source": [
    "QB"
   ]
  },
  {
   "cell_type": "code",
   "execution_count": 2,
   "id": "metallic-senior",
   "metadata": {},
   "outputs": [
    {
     "data": {
      "text/html": [
       "0.245535714285714"
      ],
      "text/latex": [
       "0.245535714285714"
      ],
      "text/markdown": [
       "0.245535714285714"
      ],
      "text/plain": [
       "[1] 0.2455357"
      ]
     },
     "metadata": {},
     "output_type": "display_data"
    }
   ],
   "source": [
    "vec_leap <- c()\n",
    "counter1 <- 1  \n",
    "counter2 <- 2 \n",
    "\n",
    "for (i in 1800:2020){ \n",
    "if (i%%4 == 0  && i%%100 != 0){ \n",
    "    vec_leap <- c(vec_leap, i) \n",
    "    counter1 <- counter1 + 1\n",
    "   }    \n",
    "else if (i%%400 == 0) {\n",
    "    vec_leap <- c(vec_leap, i) \n",
    "    counter1 <- counter1 + 1\n",
    "   }    \n",
    "else counter2 <- counter2 + 1 \n",
    "}\n",
    "\n",
    "total <- counter1 + counter2 \n",
    "\n",
    "counter1/total \n",
    "write.table(vec_leap,\"leap_years.dat\",sep=\"\\n\",quote=FALSE,row.names=FALSE)"
   ]
  }
 ],
 "metadata": {
  "kernelspec": {
   "display_name": "R",
   "language": "R",
   "name": "ir"
  },
  "language_info": {
   "codemirror_mode": "r",
   "file_extension": ".r",
   "mimetype": "text/x-r-source",
   "name": "R",
   "pygments_lexer": "r",
   "version": "4.0.4"
  }
 },
 "nbformat": 4,
 "nbformat_minor": 5
}
