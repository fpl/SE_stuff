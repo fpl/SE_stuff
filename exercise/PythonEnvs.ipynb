{
 "cells": [
  {
   "cell_type": "markdown",
   "id": "1f5f68f6-7fa9-4357-a92a-b98537e4e566",
   "metadata": {},
   "source": [
    "# Python environments or how to survive to your journey in the geodata space"
   ]
  },
  {
   "cell_type": "markdown",
   "id": "67d99e8c-2e01-4670-ab60-d6cc0afb7027",
   "metadata": {},
   "source": [
    "**Python** is _currently_ the election language for the data science (including the geospatial software ecosystem, both FOSS and proprietary). In respect to other languages it is has a long history of _breaking changes_ with a  development cycle of not more than **5 years** per version. From time to time you can find changes in tooling and packages, or even big turns in the major versions (e.g. Python 2 >> Python 3 required a 10 years roadmap until the end of 2.* series, with deprecation of a lot of packages and changes in syntax)."
   ]
  },
  {
   "cell_type": "markdown",
   "id": "73e78540-4445-4676-9a28-bcec07c36c1a",
   "metadata": {},
   "source": [
    "Main aspects to consider in your workflow:\n",
    "\n",
    "* Multiple platforms (operating systems) involve different constraints.\n",
    "* Many packages (the most performant) are not _native_ i.e. are not written (completely) in Python. That includes the Big Ones (numpy, pandas, xarray, etc.).\n",
    "* The so-called _extension_ packages are based on external libraries written in C/C++.\n",
    "* Multiple toolchains have been introduced to simplify the workflow on some platforms, but the most advanced use could be _tricky_.\n",
    "* Documentation is not always complete or articulated enough. In some cases sources or some users forum are the last resort."
   ]
  },
  {
   "cell_type": "markdown",
   "id": "274256d2-2ba3-442e-a889-30e9722717cb",
   "metadata": {},
   "source": [
    "![Python releases](figures/pythonrels.png \"Python Releases\")"
   ]
  },
  {
   "cell_type": "markdown",
   "id": "0f9f9e25-8f7d-4bea-bec5-a63198890fba",
   "metadata": {},
   "source": [
    "## A brief list of distilled suggestions and considerations"
   ]
  },
  {
   "cell_type": "markdown",
   "id": "3d440624-d239-447b-afb4-30926d3076a1",
   "metadata": {},
   "source": [
    "* Linux and other platforms have a single _system Python_ with pre-built packages available in the distribution archive. They also have a per-release tool chain, including a C/C++ compiler and standard libraries set."
   ]
  },
  {
   "cell_type": "markdown",
   "id": "a6605b31-d98f-4d79-b917-6b5ec7e1726e",
   "metadata": {},
   "source": [
    "* **DON'T** try to change system versions, you can get a not functional system which could require a total reinstall."
   ]
  },
  {
   "cell_type": "markdown",
   "id": "dbf690da-b3a8-4ac5-876b-82e1350e5dac",
   "metadata": {},
   "source": [
    "* With the right tools any user can install and use multiple Python versions without breaking the system. See [PyEnv](https://realpython.com/intro-to-pyenv/) and [Anaconda](https://anaconda.org/anaconda/python)."
   ]
  },
  {
   "cell_type": "markdown",
   "id": "4268c0ea-34fe-4c9f-afcf-dbed54ff8ddf",
   "metadata": {},
   "source": [
    "* With the right tools any user can install multiple packages versions to use alternatively. See [venv](https://docs.python.org/3/library/venv.html) environments and Anaconda."
   ]
  },
  {
   "cell_type": "markdown",
   "id": "3dac4845-9a4e-4177-837b-9eb55aa4df76",
   "metadata": {},
   "source": [
    "* Unfortunately you CAN'T use multiple versions of the same package at the same time. I'm very sorry, guys :-)"
   ]
  },
  {
   "cell_type": "markdown",
   "id": "35898d85-96e2-4604-bf3a-8cafeb034c0e",
   "metadata": {},
   "source": [
    "* All the previous stuff _in general_ do not require admin privileges, so you could use them within scientific clusters too."
   ]
  },
  {
   "cell_type": "markdown",
   "id": "846d0530-e447-4ae8-80ed-84dc336b5964",
   "metadata": {},
   "source": [
    "* All the previous stuff COULD be combined with the use of _virtual machines_ and/or _containers_. See [Docker](https://www.docker.com/) or [Podman](https://podman.io/). It is not mandatory, but in some cases they can help."
   ]
  },
  {
   "cell_type": "code",
   "execution_count": null,
   "id": "d2f4002f-867f-47b3-8e9d-05441465e366",
   "metadata": {},
   "outputs": [],
   "source": []
  }
 ],
 "metadata": {
  "kernelspec": {
   "display_name": "Python 3 (ipykernel)",
   "language": "python",
   "name": "python3"
  },
  "language_info": {
   "codemirror_mode": {
    "name": "ipython",
    "version": 3
   },
   "file_extension": ".py",
   "mimetype": "text/x-python",
   "name": "python",
   "nbconvert_exporter": "python",
   "pygments_lexer": "ipython3",
   "version": "3.10.12"
  }
 },
 "nbformat": 4,
 "nbformat_minor": 5
}
